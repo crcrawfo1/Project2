{
 "cells": [
  {
   "cell_type": "code",
   "execution_count": 9,
   "metadata": {},
   "outputs": [],
   "source": [
    "import os\n",
    "import pandas as pd\n",
    "import numpy as np\n",
    "# Load .env enviroment variables\n",
    "from dotenv import load_dotenv\n",
    "load_dotenv()\n",
    "import pathlib as Path\n",
    "#!pip install pandas-datareader\n",
    "import pandas_datareader as pdr\n",
    "from datetime import datetime\n",
    "\n",
    "%matplotlib inline"
   ]
  },
  {
   "cell_type": "code",
   "execution_count": 10,
   "metadata": {},
   "outputs": [],
   "source": [
    "# FOR HENNA ONLY\n",
    "import os\n",
    "os.chdir('/Users/hennasingh/Jupyter-Workspace/PROJECT1/Project1/notebooks')"
   ]
  },
  {
   "cell_type": "code",
   "execution_count": 15,
   "metadata": {},
   "outputs": [],
   "source": [
    "# set time frame\n",
    "timeframe = '1D'\n",
    "\n",
    "# start and 'end' date for covid stock market \n",
    "\n",
    "\n",
    "start_date_covid = datetime(2017,11,1)\n",
    "end_date_covid = datetime(2019,11,1)\n",
    "\n",
    "# start and end date for 2008 recession \n",
    "start_date_2008 = datetime(2005,7,1)\n",
    "end_date_2008 = datetime(2007,7,1)\n",
    "\n",
    "# set entertainment tickers (per industry)\n",
    "ent_tickers = ['IMAX','DIS','NFLX','CMCSA','SNE']\n",
    "fast_food_tickers = ['MCD','WEN','YUM','DPZ','JACK']\n",
    "tech_tickers = ['AMZN', 'AAPL', 'MSFT', 'GOOG', 'INTC']\n",
    "tickers_travel_airline = ['EXPE','BKNG','AAL','AAP','LUV']\n",
    "energy_tickers = ['XOM','BP','COP','CVX', 'TOT']\n",
    "\n",
    "# get stock data from covid\n",
    "entertainment_tickers_covid = pdr.DataReader(ent_tickers,'yahoo',start_date_covid,end_date_covid)\n",
    "fastfood_tickers_covid = pdr.DataReader(fast_food_tickers,'yahoo',start_date_covid,end_date_covid)\n",
    "covid_tech_ticker = pdr.DataReader(tech_tickers,'yahoo',start_date_covid,end_date_covid)\n",
    "tra_air_covid_ticker = pdr.DataReader(tickers_travel_airline,'yahoo',start_date_covid,end_date_covid)\n",
    "energy_covid_ticker = pdr.DataReader(energy_tickers,'yahoo',start_date_covid,end_date_covid)\n",
    "sp500_covid_ticker = pdr.DataReader('^GSPC','yahoo',start_date_covid,end_date_covid)\n",
    "\n",
    "\n",
    "# get stock data from 2008 recession\n",
    "entertainment_tickers_2008 = pdr.DataReader(ent_tickers,'yahoo',start_date_2008,end_date_2008)\n",
    "fastfood_tickers_2008 = pdr.DataReader(fast_food_tickers,'yahoo',start_date_2008,end_date_2008)\n",
    "tech_ticker2008 = pdr.DataReader(tech_tickers,'yahoo',start_date_2008,end_date_2008)\n",
    "tra_air_ticker2008 = pdr.DataReader(tickers_travel_airline,'yahoo',start_date_2008,end_date_2008)\n",
    "energy_ticker2008 = pdr.DataReader(energy_tickers,'yahoo',start_date_2008,end_date_2008)\n",
    "sp500_2008_ticker = pdr.DataReader('^GSPC','yahoo',start_date_2008,end_date_2008)"
   ]
  },
  {
   "cell_type": "markdown",
   "metadata": {},
   "source": [
    "## Weight Optimization for Entertainment Industry"
   ]
  },
  {
   "cell_type": "markdown",
   "metadata": {},
   "source": [
    "### Dataframe with COVID Closing Prices - Entertainment"
   ]
  },
  {
   "cell_type": "code",
   "execution_count": 18,
   "metadata": {},
   "outputs": [
    {
     "data": {
      "text/html": [
       "<div>\n",
       "<style scoped>\n",
       "    .dataframe tbody tr th:only-of-type {\n",
       "        vertical-align: middle;\n",
       "    }\n",
       "\n",
       "    .dataframe tbody tr th {\n",
       "        vertical-align: top;\n",
       "    }\n",
       "\n",
       "    .dataframe thead th {\n",
       "        text-align: right;\n",
       "    }\n",
       "</style>\n",
       "<table border=\"1\" class=\"dataframe\">\n",
       "  <thead>\n",
       "    <tr style=\"text-align: right;\">\n",
       "      <th></th>\n",
       "      <th>IMAX</th>\n",
       "      <th>DIS</th>\n",
       "      <th>NFLX</th>\n",
       "      <th>CMCSA</th>\n",
       "      <th>SNE</th>\n",
       "    </tr>\n",
       "  </thead>\n",
       "  <tbody>\n",
       "    <tr>\n",
       "      <th>2017-11-01</th>\n",
       "      <td>24.150000</td>\n",
       "      <td>95.538605</td>\n",
       "      <td>198.000000</td>\n",
       "      <td>33.865295</td>\n",
       "      <td>42.838394</td>\n",
       "    </tr>\n",
       "    <tr>\n",
       "      <th>2017-11-02</th>\n",
       "      <td>24.100000</td>\n",
       "      <td>94.882591</td>\n",
       "      <td>199.320007</td>\n",
       "      <td>32.992382</td>\n",
       "      <td>44.166637</td>\n",
       "    </tr>\n",
       "    <tr>\n",
       "      <th>2017-11-03</th>\n",
       "      <td>24.100000</td>\n",
       "      <td>95.162369</td>\n",
       "      <td>200.009995</td>\n",
       "      <td>33.489845</td>\n",
       "      <td>44.087933</td>\n",
       "    </tr>\n",
       "    <tr>\n",
       "      <th>2017-11-06</th>\n",
       "      <td>24.350000</td>\n",
       "      <td>97.091850</td>\n",
       "      <td>200.130005</td>\n",
       "      <td>33.358440</td>\n",
       "      <td>45.130848</td>\n",
       "    </tr>\n",
       "    <tr>\n",
       "      <th>2017-11-07</th>\n",
       "      <td>24.299999</td>\n",
       "      <td>98.027657</td>\n",
       "      <td>195.889999</td>\n",
       "      <td>34.156265</td>\n",
       "      <td>45.268593</td>\n",
       "    </tr>\n",
       "  </tbody>\n",
       "</table>\n",
       "</div>"
      ],
      "text/plain": [
       "                 IMAX        DIS        NFLX      CMCSA        SNE\n",
       "2017-11-01  24.150000  95.538605  198.000000  33.865295  42.838394\n",
       "2017-11-02  24.100000  94.882591  199.320007  32.992382  44.166637\n",
       "2017-11-03  24.100000  95.162369  200.009995  33.489845  44.087933\n",
       "2017-11-06  24.350000  97.091850  200.130005  33.358440  45.130848\n",
       "2017-11-07  24.299999  98.027657  195.889999  34.156265  45.268593"
      ]
     },
     "execution_count": 18,
     "metadata": {},
     "output_type": "execute_result"
    }
   ],
   "source": [
    "# create new covid and 2008 dataframe to store ckosing prices of each stock\n",
    "covid_closingprices_e = pd.DataFrame()\n",
    "\n",
    "# get closing prices for all tickers\n",
    "for ticker in ent_tickers:\n",
    "    covid_closingprices_e[ticker]=entertainment_tickers_covid['Adj Close'][ticker]\n",
    "    \n",
    "# drop time component on index\n",
    "covid_closingprices_e.index = covid_closingprices_e.index.date\n",
    "    \n",
    "covid_closingprices_e.head()"
   ]
  },
  {
   "cell_type": "markdown",
   "metadata": {},
   "source": [
    "### Dataframe with 2008 Closing Prices - Entertainment"
   ]
  },
  {
   "cell_type": "code",
   "execution_count": 20,
   "metadata": {},
   "outputs": [
    {
     "data": {
      "text/html": [
       "<div>\n",
       "<style scoped>\n",
       "    .dataframe tbody tr th:only-of-type {\n",
       "        vertical-align: middle;\n",
       "    }\n",
       "\n",
       "    .dataframe tbody tr th {\n",
       "        vertical-align: top;\n",
       "    }\n",
       "\n",
       "    .dataframe thead th {\n",
       "        text-align: right;\n",
       "    }\n",
       "</style>\n",
       "<table border=\"1\" class=\"dataframe\">\n",
       "  <thead>\n",
       "    <tr style=\"text-align: right;\">\n",
       "      <th></th>\n",
       "      <th>IMAX</th>\n",
       "      <th>DIS</th>\n",
       "      <th>NFLX</th>\n",
       "      <th>CMCSA</th>\n",
       "      <th>SNE</th>\n",
       "    </tr>\n",
       "  </thead>\n",
       "  <tbody>\n",
       "    <tr>\n",
       "      <th>2005-07-01</th>\n",
       "      <td>9.93</td>\n",
       "      <td>20.371153</td>\n",
       "      <td>2.364286</td>\n",
       "      <td>8.012370</td>\n",
       "      <td>30.189739</td>\n",
       "    </tr>\n",
       "    <tr>\n",
       "      <th>2005-07-05</th>\n",
       "      <td>9.72</td>\n",
       "      <td>20.330553</td>\n",
       "      <td>2.348572</td>\n",
       "      <td>8.015000</td>\n",
       "      <td>29.979908</td>\n",
       "    </tr>\n",
       "    <tr>\n",
       "      <th>2005-07-06</th>\n",
       "      <td>9.90</td>\n",
       "      <td>20.127573</td>\n",
       "      <td>2.390000</td>\n",
       "      <td>7.915007</td>\n",
       "      <td>30.285908</td>\n",
       "    </tr>\n",
       "    <tr>\n",
       "      <th>2005-07-07</th>\n",
       "      <td>9.84</td>\n",
       "      <td>19.851521</td>\n",
       "      <td>2.418571</td>\n",
       "      <td>7.917641</td>\n",
       "      <td>30.233459</td>\n",
       "    </tr>\n",
       "    <tr>\n",
       "      <th>2005-07-08</th>\n",
       "      <td>10.03</td>\n",
       "      <td>20.298075</td>\n",
       "      <td>2.387143</td>\n",
       "      <td>8.070257</td>\n",
       "      <td>30.495743</td>\n",
       "    </tr>\n",
       "  </tbody>\n",
       "</table>\n",
       "</div>"
      ],
      "text/plain": [
       "             IMAX        DIS      NFLX     CMCSA        SNE\n",
       "2005-07-01   9.93  20.371153  2.364286  8.012370  30.189739\n",
       "2005-07-05   9.72  20.330553  2.348572  8.015000  29.979908\n",
       "2005-07-06   9.90  20.127573  2.390000  7.915007  30.285908\n",
       "2005-07-07   9.84  19.851521  2.418571  7.917641  30.233459\n",
       "2005-07-08  10.03  20.298075  2.387143  8.070257  30.495743"
      ]
     },
     "execution_count": 20,
     "metadata": {},
     "output_type": "execute_result"
    }
   ],
   "source": [
    "closingprices2008_e = pd.DataFrame()\n",
    "\n",
    "# get closing prices for all tickers\n",
    "for ticker in ent_tickers:\n",
    "    closingprices2008_e[ticker]=entertainment_tickers_2008['Adj Close'][ticker]\n",
    "    \n",
    "# drop time component on index\n",
    "closingprices2008_e.index = closingprices2008_e.index.date\n",
    "    \n",
    "closingprices2008_e.head()"
   ]
  },
  {
   "cell_type": "markdown",
   "metadata": {},
   "source": [
    "### Entertainment Optimized Weights - COVID"
   ]
  },
  {
   "cell_type": "code",
   "execution_count": 22,
   "metadata": {},
   "outputs": [],
   "source": [
    "# daily returns\n",
    "ent_covid_dr = covid_closingprices_e.pct_change().dropna()\n",
    "ent_returns2008 = closingprices2008_e.pct_change().dropna()"
   ]
  },
  {
   "cell_type": "code",
   "execution_count": 23,
   "metadata": {},
   "outputs": [],
   "source": [
    "# running 10k simulations on portfolio\n",
    "number_ports = 100000\n",
    "all_weights_ent_covid = np.zeros((number_ports, len(covid_closingprices_e.columns)))\n",
    "returns_array_ent_covid = np.zeros(number_ports)\n",
    "volatility_array_ent_covid = np.zeros(number_ports)\n",
    "sharpe_array_ent_covid = np.zeros(number_ports)\n",
    "\n",
    "np.random.seed(4)\n",
    "\n",
    "for index in range(number_ports):\n",
    "    #weights\n",
    "    weights = np.array(np.random.random(5))\n",
    "    weights = weights/np.sum(weights)\n",
    "\n",
    "    #save weights\n",
    "    all_weights_ent_covid[index,:] = weights\n",
    "\n",
    "    #expected returns\n",
    "    returns_array_ent_covid[index] = np.sum((ent_covid_dr.mean()*weights)*252)\n",
    "\n",
    "    #expected volatiltiy\n",
    "    volatility_array_ent_covid[index] = np.sqrt(np.dot(weights.T, np.dot(ent_covid_dr.cov()*252, weights)))\n",
    "\n",
    "    #sharpe ratio\n",
    "    sharpe_array_ent_covid[index] = returns_array_ent_covid[index]/volatility_array_ent_covid[index]"
   ]
  },
  {
   "cell_type": "code",
   "execution_count": 24,
   "metadata": {},
   "outputs": [
    {
     "data": {
      "text/plain": [
       "1.0257017499384444"
      ]
     },
     "execution_count": 24,
     "metadata": {},
     "output_type": "execute_result"
    }
   ],
   "source": [
    "sharpe_array_ent_covid.max()"
   ]
  },
  {
   "cell_type": "code",
   "execution_count": 25,
   "metadata": {},
   "outputs": [
    {
     "data": {
      "text/plain": [
       "54101"
      ]
     },
     "execution_count": 25,
     "metadata": {},
     "output_type": "execute_result"
    }
   ],
   "source": [
    "index_max_shape_covid_ent = sharpe_array_ent_covid.argmax()\n",
    "index_max_shape_covid_ent"
   ]
  },
  {
   "cell_type": "code",
   "execution_count": 28,
   "metadata": {},
   "outputs": [
    {
     "data": {
      "text/plain": [
       "array([0.00112396, 0.5000311 , 0.10987238, 0.12220884, 0.26676372])"
      ]
     },
     "execution_count": 28,
     "metadata": {},
     "output_type": "execute_result"
    }
   ],
   "source": [
    "weights_array_covid_ent = all_weights_ent_covid[index_max_shape_covid_ent,:]\n",
    "weights_array_covid_ent"
   ]
  },
  {
   "cell_type": "code",
   "execution_count": 34,
   "metadata": {},
   "outputs": [],
   "source": [
    "weights_array_covid_ent = np.array([0.00112396, 0.5000311 , 0.10987238, 0.12220884, 0.26676372])"
   ]
  },
  {
   "cell_type": "markdown",
   "metadata": {},
   "source": [
    "### Entertainment Optimized Weights - 2008"
   ]
  },
  {
   "cell_type": "code",
   "execution_count": 29,
   "metadata": {},
   "outputs": [],
   "source": [
    "# running 10k simulations on portfolio\n",
    "number_ports = 100000\n",
    "all_weights_ent_2008 = np.zeros((number_ports, len(closingprices2008_e.columns)))\n",
    "returns_array_ent_2008 = np.zeros(number_ports)\n",
    "volatility_array_ent_2008 = np.zeros(number_ports)\n",
    "sharpe_array_ent_2008 = np.zeros(number_ports)\n",
    "\n",
    "np.random.seed(4)\n",
    "\n",
    "for index in range(number_ports):\n",
    "    #weights\n",
    "    weights = np.array(np.random.random(5))\n",
    "    weights = weights/np.sum(weights)\n",
    "\n",
    "    #save weights\n",
    "    all_weights_ent_2008[index,:] = weights\n",
    "\n",
    "    #expected returns\n",
    "    returns_array_ent_2008[index] = np.sum((ent_returns2008.mean()*weights)*252)\n",
    "\n",
    "    #expected volatiltiy\n",
    "    volatility_array_ent_2008[index] = np.sqrt(np.dot(weights.T, np.dot(ent_returns2008.cov()*252, weights)))\n",
    "\n",
    "    #sharpe ratio\n",
    "    sharpe_array_ent_2008[index] = returns_array_ent_2008[index]/volatility_array_ent_2008[index]"
   ]
  },
  {
   "cell_type": "code",
   "execution_count": 30,
   "metadata": {},
   "outputs": [
    {
     "data": {
      "text/plain": [
       "1.3215721366100446"
      ]
     },
     "execution_count": 30,
     "metadata": {},
     "output_type": "execute_result"
    }
   ],
   "source": [
    "sharpe_array_ent_2008.max()"
   ]
  },
  {
   "cell_type": "code",
   "execution_count": 31,
   "metadata": {},
   "outputs": [
    {
     "data": {
      "text/plain": [
       "31710"
      ]
     },
     "execution_count": 31,
     "metadata": {},
     "output_type": "execute_result"
    }
   ],
   "source": [
    "index_max_shape_2008_ent = sharpe_array_ent_2008.argmax()\n",
    "index_max_shape_2008_ent"
   ]
  },
  {
   "cell_type": "code",
   "execution_count": 32,
   "metadata": {},
   "outputs": [
    {
     "data": {
      "text/plain": [
       "array([0.00062007, 0.38479239, 0.06010945, 0.32760128, 0.22687681])"
      ]
     },
     "execution_count": 32,
     "metadata": {},
     "output_type": "execute_result"
    }
   ],
   "source": [
    "weights_array_2008_ent = all_weights_ent_2008[index_max_shape_2008_ent,:]\n",
    "weights_array_2008_ent"
   ]
  },
  {
   "cell_type": "code",
   "execution_count": 35,
   "metadata": {},
   "outputs": [],
   "source": [
    "weights_array_2008_ent = np.array([0.00062007, 0.38479239, 0.06010945, 0.32760128, 0.22687681])"
   ]
  },
  {
   "cell_type": "markdown",
   "metadata": {},
   "source": [
    "## Weight Optimization for Fast Food Industry\n"
   ]
  },
  {
   "cell_type": "markdown",
   "metadata": {},
   "source": [
    "### Dataframe with COVID Closing Prices - Fast Food"
   ]
  },
  {
   "cell_type": "code",
   "execution_count": 39,
   "metadata": {},
   "outputs": [
    {
     "data": {
      "text/html": [
       "<div>\n",
       "<style scoped>\n",
       "    .dataframe tbody tr th:only-of-type {\n",
       "        vertical-align: middle;\n",
       "    }\n",
       "\n",
       "    .dataframe tbody tr th {\n",
       "        vertical-align: top;\n",
       "    }\n",
       "\n",
       "    .dataframe thead th {\n",
       "        text-align: right;\n",
       "    }\n",
       "</style>\n",
       "<table border=\"1\" class=\"dataframe\">\n",
       "  <thead>\n",
       "    <tr style=\"text-align: right;\">\n",
       "      <th></th>\n",
       "      <th>MCD</th>\n",
       "      <th>WEN</th>\n",
       "      <th>YUM</th>\n",
       "      <th>DPZ</th>\n",
       "      <th>JACK</th>\n",
       "    </tr>\n",
       "  </thead>\n",
       "  <tbody>\n",
       "    <tr>\n",
       "      <th>2017-11-01</th>\n",
       "      <td>153.664261</td>\n",
       "      <td>14.158257</td>\n",
       "      <td>70.209763</td>\n",
       "      <td>172.127960</td>\n",
       "      <td>96.140327</td>\n",
       "    </tr>\n",
       "    <tr>\n",
       "      <th>2017-11-02</th>\n",
       "      <td>155.262131</td>\n",
       "      <td>14.356076</td>\n",
       "      <td>74.782715</td>\n",
       "      <td>172.943649</td>\n",
       "      <td>95.620705</td>\n",
       "    </tr>\n",
       "    <tr>\n",
       "      <th>2017-11-03</th>\n",
       "      <td>155.770111</td>\n",
       "      <td>14.148840</td>\n",
       "      <td>74.555954</td>\n",
       "      <td>172.798019</td>\n",
       "      <td>97.018974</td>\n",
       "    </tr>\n",
       "    <tr>\n",
       "      <th>2017-11-06</th>\n",
       "      <td>157.081711</td>\n",
       "      <td>14.064059</td>\n",
       "      <td>75.462990</td>\n",
       "      <td>168.447495</td>\n",
       "      <td>96.688301</td>\n",
       "    </tr>\n",
       "    <tr>\n",
       "      <th>2017-11-07</th>\n",
       "      <td>157.728241</td>\n",
       "      <td>13.885078</td>\n",
       "      <td>76.540092</td>\n",
       "      <td>165.184570</td>\n",
       "      <td>95.601814</td>\n",
       "    </tr>\n",
       "  </tbody>\n",
       "</table>\n",
       "</div>"
      ],
      "text/plain": [
       "                   MCD        WEN        YUM         DPZ       JACK\n",
       "2017-11-01  153.664261  14.158257  70.209763  172.127960  96.140327\n",
       "2017-11-02  155.262131  14.356076  74.782715  172.943649  95.620705\n",
       "2017-11-03  155.770111  14.148840  74.555954  172.798019  97.018974\n",
       "2017-11-06  157.081711  14.064059  75.462990  168.447495  96.688301\n",
       "2017-11-07  157.728241  13.885078  76.540092  165.184570  95.601814"
      ]
     },
     "execution_count": 39,
     "metadata": {},
     "output_type": "execute_result"
    }
   ],
   "source": [
    "# create new covid and 2008 dataframe to store ckosing prices of each stock\n",
    "covid_closingprices_ff = pd.DataFrame()\n",
    "\n",
    "# get closing prices for all tickers\n",
    "for ticker in fast_food_tickers:\n",
    "    covid_closingprices_ff[ticker]=fastfood_tickers_covid['Adj Close'][ticker]\n",
    "    \n",
    "# drop time component on index\n",
    "covid_closingprices_ff.index = covid_closingprices_ff.index.date\n",
    "    \n",
    "covid_closingprices_ff.head()"
   ]
  },
  {
   "cell_type": "markdown",
   "metadata": {},
   "source": [
    "### Dataframe with 2008 Closing Prices - Fast Food"
   ]
  },
  {
   "cell_type": "code",
   "execution_count": 40,
   "metadata": {},
   "outputs": [
    {
     "data": {
      "text/html": [
       "<div>\n",
       "<style scoped>\n",
       "    .dataframe tbody tr th:only-of-type {\n",
       "        vertical-align: middle;\n",
       "    }\n",
       "\n",
       "    .dataframe tbody tr th {\n",
       "        vertical-align: top;\n",
       "    }\n",
       "\n",
       "    .dataframe thead th {\n",
       "        text-align: right;\n",
       "    }\n",
       "</style>\n",
       "<table border=\"1\" class=\"dataframe\">\n",
       "  <thead>\n",
       "    <tr style=\"text-align: right;\">\n",
       "      <th></th>\n",
       "      <th>MCD</th>\n",
       "      <th>WEN</th>\n",
       "      <th>YUM</th>\n",
       "      <th>DPZ</th>\n",
       "      <th>JACK</th>\n",
       "    </tr>\n",
       "  </thead>\n",
       "  <tbody>\n",
       "    <tr>\n",
       "      <th>2005-07-01</th>\n",
       "      <td>17.553865</td>\n",
       "      <td>11.605938</td>\n",
       "      <td>13.830293</td>\n",
       "      <td>10.626073</td>\n",
       "      <td>16.800085</td>\n",
       "    </tr>\n",
       "    <tr>\n",
       "      <th>2005-07-05</th>\n",
       "      <td>17.572720</td>\n",
       "      <td>11.562579</td>\n",
       "      <td>13.776560</td>\n",
       "      <td>10.823838</td>\n",
       "      <td>16.939381</td>\n",
       "    </tr>\n",
       "    <tr>\n",
       "      <th>2005-07-06</th>\n",
       "      <td>17.403086</td>\n",
       "      <td>11.562579</td>\n",
       "      <td>13.736261</td>\n",
       "      <td>10.611604</td>\n",
       "      <td>16.961842</td>\n",
       "    </tr>\n",
       "    <tr>\n",
       "      <th>2005-07-07</th>\n",
       "      <td>17.591564</td>\n",
       "      <td>11.468626</td>\n",
       "      <td>13.814171</td>\n",
       "      <td>10.746663</td>\n",
       "      <td>16.858500</td>\n",
       "    </tr>\n",
       "    <tr>\n",
       "      <th>2005-07-08</th>\n",
       "      <td>17.999943</td>\n",
       "      <td>11.331330</td>\n",
       "      <td>13.935070</td>\n",
       "      <td>11.007123</td>\n",
       "      <td>17.119106</td>\n",
       "    </tr>\n",
       "  </tbody>\n",
       "</table>\n",
       "</div>"
      ],
      "text/plain": [
       "                  MCD        WEN        YUM        DPZ       JACK\n",
       "2005-07-01  17.553865  11.605938  13.830293  10.626073  16.800085\n",
       "2005-07-05  17.572720  11.562579  13.776560  10.823838  16.939381\n",
       "2005-07-06  17.403086  11.562579  13.736261  10.611604  16.961842\n",
       "2005-07-07  17.591564  11.468626  13.814171  10.746663  16.858500\n",
       "2005-07-08  17.999943  11.331330  13.935070  11.007123  17.119106"
      ]
     },
     "execution_count": 40,
     "metadata": {},
     "output_type": "execute_result"
    }
   ],
   "source": [
    "closingprices2008_ff = pd.DataFrame()\n",
    "\n",
    "# get closing prices for all tickers\n",
    "for ticker in fast_food_tickers:\n",
    "    closingprices2008_ff[ticker]=fastfood_tickers_2008['Adj Close'][ticker]\n",
    "    \n",
    "# drop time component on index\n",
    "closingprices2008_ff.index = closingprices2008_ff.index.date\n",
    "    \n",
    "closingprices2008_ff.head()"
   ]
  },
  {
   "cell_type": "markdown",
   "metadata": {},
   "source": [
    "### Fast Food Optimized Weights - COVID"
   ]
  },
  {
   "cell_type": "code",
   "execution_count": 41,
   "metadata": {},
   "outputs": [],
   "source": [
    "# daily returns\n",
    "ff_covid_dr = covid_closingprices_ff.pct_change().dropna()\n",
    "ff_returns2008 = closingprices2008_ff.pct_change().dropna()"
   ]
  },
  {
   "cell_type": "code",
   "execution_count": 43,
   "metadata": {},
   "outputs": [],
   "source": [
    "# running 10k simulations on portfolio\n",
    "number_ports = 100000\n",
    "all_weights_ff_covid = np.zeros((number_ports, len(covid_closingprices_ff.columns)))\n",
    "returns_array_ff_covid = np.zeros(number_ports)\n",
    "volatility_array_ff_covid = np.zeros(number_ports)\n",
    "sharpe_array_ff_covid = np.zeros(number_ports)\n",
    "\n",
    "np.random.seed(4)\n",
    "\n",
    "for index in range(number_ports):\n",
    "    #weights\n",
    "    weights = np.array(np.random.random(5))\n",
    "    weights = weights/np.sum(weights)\n",
    "\n",
    "    #save weights\n",
    "    all_weights_ff_covid[index,:] = weights\n",
    "\n",
    "    #expected returns\n",
    "    returns_array_ff_covid[index] = np.sum((ff_covid_dr.mean()*weights)*252)\n",
    "\n",
    "    #expected volatiltiy\n",
    "    volatility_array_ff_covid[index] = np.sqrt(np.dot(weights.T, np.dot(ff_covid_dr.cov()*252, weights)))\n",
    "\n",
    "    #sharpe ratio\n",
    "    sharpe_array_ff_covid[index] = returns_array_ff_covid[index]/volatility_array_ff_covid[index]"
   ]
  },
  {
   "cell_type": "code",
   "execution_count": 47,
   "metadata": {},
   "outputs": [
    {
     "data": {
      "text/plain": [
       "1.2567695791189286"
      ]
     },
     "execution_count": 47,
     "metadata": {},
     "output_type": "execute_result"
    }
   ],
   "source": [
    "sharpe_array_ff_covid.max()"
   ]
  },
  {
   "cell_type": "code",
   "execution_count": 48,
   "metadata": {},
   "outputs": [
    {
     "data": {
      "text/plain": [
       "array([5.57594323e-02, 2.25627731e-01, 4.39993918e-01, 2.78455724e-01,\n",
       "       1.63195337e-04])"
      ]
     },
     "execution_count": 48,
     "metadata": {},
     "output_type": "execute_result"
    }
   ],
   "source": [
    "index_max_shape_covid_ff = sharpe_array_ff_covid.argmax()\n",
    "weights_array_covid_ff = all_weights_ff_covid[index_max_shape_covid_ff,:]\n",
    "weights_array_covid_ff"
   ]
  },
  {
   "cell_type": "code",
   "execution_count": 49,
   "metadata": {},
   "outputs": [],
   "source": [
    "weights_array_covid_ff = np.array([5.57594323e-02, 2.25627731e-01, 4.39993918e-01, 2.78455724e-01,\n",
    "       1.63195337e-04])"
   ]
  },
  {
   "cell_type": "markdown",
   "metadata": {},
   "source": [
    "### Fast Food Optimized Weights - 2008"
   ]
  },
  {
   "cell_type": "code",
   "execution_count": 50,
   "metadata": {},
   "outputs": [],
   "source": [
    "# running 10k simulations on portfolio\n",
    "number_ports = 100000\n",
    "all_weights_ff_2008 = np.zeros((number_ports, len(closingprices2008_ff.columns)))\n",
    "returns_array_ff_2008 = np.zeros(number_ports)\n",
    "volatility_array_ff_2008 = np.zeros(number_ports)\n",
    "sharpe_array_ff_2008 = np.zeros(number_ports)\n",
    "\n",
    "np.random.seed(4)\n",
    "\n",
    "for index in range(number_ports):\n",
    "    #weights\n",
    "    weights = np.array(np.random.random(5))\n",
    "    weights = weights/np.sum(weights)\n",
    "\n",
    "    #save weights\n",
    "    all_weights_ff_2008[index,:] = weights\n",
    "\n",
    "    #expected returns\n",
    "    returns_array_ff_2008[index] = np.sum((ff_returns2008.mean()*weights)*252)\n",
    "\n",
    "    #expected volatiltiy\n",
    "    volatility_array_ff_2008[index] = np.sqrt(np.dot(weights.T, np.dot(ff_returns2008.cov()*252, weights)))\n",
    "\n",
    "    #sharpe ratio\n",
    "    sharpe_array_ff_2008[index] = returns_array_ff_2008[index]/volatility_array_ff_2008[index]"
   ]
  },
  {
   "cell_type": "code",
   "execution_count": 54,
   "metadata": {},
   "outputs": [
    {
     "data": {
      "text/plain": [
       "1.7902943283052932"
      ]
     },
     "execution_count": 54,
     "metadata": {},
     "output_type": "execute_result"
    }
   ],
   "source": [
    "sharpe_array_ff_2008.max()"
   ]
  },
  {
   "cell_type": "code",
   "execution_count": 55,
   "metadata": {},
   "outputs": [
    {
     "data": {
      "text/plain": [
       "array([0.63961816, 0.01055246, 0.01573766, 0.08464276, 0.24944896])"
      ]
     },
     "execution_count": 55,
     "metadata": {},
     "output_type": "execute_result"
    }
   ],
   "source": [
    "index_max_shape_2008_ff = sharpe_array_ff_2008.argmax()\n",
    "weights_array_2008_ff = all_weights_ff_2008[index_max_shape_2008_ff,:]\n",
    "weights_array_2008_ff"
   ]
  },
  {
   "cell_type": "code",
   "execution_count": 58,
   "metadata": {},
   "outputs": [],
   "source": [
    "weights_array_2008_ff = np.array([0.63961816, 0.01055246, 0.01573766, 0.08464276, 0.24944896])"
   ]
  },
  {
   "cell_type": "markdown",
   "metadata": {},
   "source": [
    "## Weight Optimization for tech Industry"
   ]
  },
  {
   "cell_type": "markdown",
   "metadata": {},
   "source": [
    "### Dataframe with COVID Closing Prices -TECH"
   ]
  },
  {
   "cell_type": "code",
   "execution_count": 59,
   "metadata": {},
   "outputs": [
    {
     "data": {
      "text/html": [
       "<div>\n",
       "<style scoped>\n",
       "    .dataframe tbody tr th:only-of-type {\n",
       "        vertical-align: middle;\n",
       "    }\n",
       "\n",
       "    .dataframe tbody tr th {\n",
       "        vertical-align: top;\n",
       "    }\n",
       "\n",
       "    .dataframe thead th {\n",
       "        text-align: right;\n",
       "    }\n",
       "</style>\n",
       "<table border=\"1\" class=\"dataframe\">\n",
       "  <thead>\n",
       "    <tr style=\"text-align: right;\">\n",
       "      <th></th>\n",
       "      <th>AMZN</th>\n",
       "      <th>AAPL</th>\n",
       "      <th>MSFT</th>\n",
       "      <th>GOOG</th>\n",
       "      <th>INTC</th>\n",
       "    </tr>\n",
       "  </thead>\n",
       "  <tbody>\n",
       "    <tr>\n",
       "      <th>2017-11-01</th>\n",
       "      <td>1103.680054</td>\n",
       "      <td>39.681473</td>\n",
       "      <td>79.330177</td>\n",
       "      <td>1025.500000</td>\n",
       "      <td>43.120304</td>\n",
       "    </tr>\n",
       "    <tr>\n",
       "      <th>2017-11-02</th>\n",
       "      <td>1094.219971</td>\n",
       "      <td>39.971542</td>\n",
       "      <td>80.159912</td>\n",
       "      <td>1025.579956</td>\n",
       "      <td>43.480331</td>\n",
       "    </tr>\n",
       "    <tr>\n",
       "      <th>2017-11-03</th>\n",
       "      <td>1111.599976</td>\n",
       "      <td>41.015358</td>\n",
       "      <td>80.245743</td>\n",
       "      <td>1032.479980</td>\n",
       "      <td>42.778736</td>\n",
       "    </tr>\n",
       "    <tr>\n",
       "      <th>2017-11-06</th>\n",
       "      <td>1120.660034</td>\n",
       "      <td>41.431458</td>\n",
       "      <td>80.560478</td>\n",
       "      <td>1025.900024</td>\n",
       "      <td>43.366554</td>\n",
       "    </tr>\n",
       "    <tr>\n",
       "      <th>2017-11-07</th>\n",
       "      <td>1123.170044</td>\n",
       "      <td>41.564606</td>\n",
       "      <td>80.369720</td>\n",
       "      <td>1033.329956</td>\n",
       "      <td>43.440838</td>\n",
       "    </tr>\n",
       "  </tbody>\n",
       "</table>\n",
       "</div>"
      ],
      "text/plain": [
       "                   AMZN       AAPL       MSFT         GOOG       INTC\n",
       "2017-11-01  1103.680054  39.681473  79.330177  1025.500000  43.120304\n",
       "2017-11-02  1094.219971  39.971542  80.159912  1025.579956  43.480331\n",
       "2017-11-03  1111.599976  41.015358  80.245743  1032.479980  42.778736\n",
       "2017-11-06  1120.660034  41.431458  80.560478  1025.900024  43.366554\n",
       "2017-11-07  1123.170044  41.564606  80.369720  1033.329956  43.440838"
      ]
     },
     "execution_count": 59,
     "metadata": {},
     "output_type": "execute_result"
    }
   ],
   "source": [
    "# create new covid and 2008 dataframe to store ckosing prices of each stock\n",
    "covid_closingprices_tech = pd.DataFrame()\n",
    "\n",
    "# get closing prices for all tickers\n",
    "for ticker in tech_tickers:\n",
    "    covid_closingprices_tech[ticker]=covid_tech_ticker['Adj Close'][ticker]\n",
    "    \n",
    "# drop time component on index\n",
    "covid_closingprices_tech.index = covid_closingprices_tech.index.date\n",
    "    \n",
    "covid_closingprices_tech.head()"
   ]
  },
  {
   "cell_type": "markdown",
   "metadata": {},
   "source": [
    "### Dataframe with 2008 Closing Prices - TECH"
   ]
  },
  {
   "cell_type": "code",
   "execution_count": 62,
   "metadata": {},
   "outputs": [
    {
     "data": {
      "text/html": [
       "<div>\n",
       "<style scoped>\n",
       "    .dataframe tbody tr th:only-of-type {\n",
       "        vertical-align: middle;\n",
       "    }\n",
       "\n",
       "    .dataframe tbody tr th {\n",
       "        vertical-align: top;\n",
       "    }\n",
       "\n",
       "    .dataframe thead th {\n",
       "        text-align: right;\n",
       "    }\n",
       "</style>\n",
       "<table border=\"1\" class=\"dataframe\">\n",
       "  <thead>\n",
       "    <tr style=\"text-align: right;\">\n",
       "      <th></th>\n",
       "      <th>AMZN</th>\n",
       "      <th>AAPL</th>\n",
       "      <th>MSFT</th>\n",
       "      <th>GOOG</th>\n",
       "      <th>INTC</th>\n",
       "    </tr>\n",
       "  </thead>\n",
       "  <tbody>\n",
       "    <tr>\n",
       "      <th>2005-07-01</th>\n",
       "      <td>32.910000</td>\n",
       "      <td>1.115395</td>\n",
       "      <td>17.850933</td>\n",
       "      <td>145.081207</td>\n",
       "      <td>16.874496</td>\n",
       "    </tr>\n",
       "    <tr>\n",
       "      <th>2005-07-05</th>\n",
       "      <td>34.080002</td>\n",
       "      <td>1.160622</td>\n",
       "      <td>18.045984</td>\n",
       "      <td>147.302872</td>\n",
       "      <td>17.177095</td>\n",
       "    </tr>\n",
       "    <tr>\n",
       "      <th>2005-07-06</th>\n",
       "      <td>34.060001</td>\n",
       "      <td>1.142592</td>\n",
       "      <td>17.843708</td>\n",
       "      <td>145.215698</td>\n",
       "      <td>17.061209</td>\n",
       "    </tr>\n",
       "    <tr>\n",
       "      <th>2005-07-07</th>\n",
       "      <td>33.959999</td>\n",
       "      <td>1.149926</td>\n",
       "      <td>17.807590</td>\n",
       "      <td>147.218185</td>\n",
       "      <td>17.099836</td>\n",
       "    </tr>\n",
       "    <tr>\n",
       "      <th>2005-07-08</th>\n",
       "      <td>34.740002</td>\n",
       "      <td>1.168873</td>\n",
       "      <td>18.125446</td>\n",
       "      <td>147.561905</td>\n",
       "      <td>17.563387</td>\n",
       "    </tr>\n",
       "  </tbody>\n",
       "</table>\n",
       "</div>"
      ],
      "text/plain": [
       "                 AMZN      AAPL       MSFT        GOOG       INTC\n",
       "2005-07-01  32.910000  1.115395  17.850933  145.081207  16.874496\n",
       "2005-07-05  34.080002  1.160622  18.045984  147.302872  17.177095\n",
       "2005-07-06  34.060001  1.142592  17.843708  145.215698  17.061209\n",
       "2005-07-07  33.959999  1.149926  17.807590  147.218185  17.099836\n",
       "2005-07-08  34.740002  1.168873  18.125446  147.561905  17.563387"
      ]
     },
     "execution_count": 62,
     "metadata": {},
     "output_type": "execute_result"
    }
   ],
   "source": [
    "closingprices2008_tech = pd.DataFrame()\n",
    "\n",
    "# get closing prices for all tickers\n",
    "for ticker in tech_tickers:\n",
    "    closingprices2008_tech[ticker]=tech_ticker2008['Adj Close'][ticker]\n",
    "    \n",
    "# drop time component on index\n",
    "closingprices2008_tech.index = closingprices2008_tech.index.date\n",
    "    \n",
    "closingprices2008_tech.head()"
   ]
  },
  {
   "cell_type": "markdown",
   "metadata": {},
   "source": [
    "### TECH Optimized Weights - COVID"
   ]
  },
  {
   "cell_type": "code",
   "execution_count": 63,
   "metadata": {},
   "outputs": [],
   "source": [
    "# daily returns\n",
    "tech_covid_dr = covid_closingprices_tech.pct_change().dropna()\n",
    "tech_returns2008 = closingprices2008_tech.pct_change().dropna()"
   ]
  },
  {
   "cell_type": "code",
   "execution_count": 64,
   "metadata": {},
   "outputs": [],
   "source": [
    "# running 10k simulations on portfolio\n",
    "number_ports = 100000\n",
    "all_weights_tech_covid = np.zeros((number_ports, len(covid_closingprices_tech.columns)))\n",
    "returns_array_tech_covid = np.zeros(number_ports)\n",
    "volatility_array_tech_covid = np.zeros(number_ports)\n",
    "sharpe_array_tech_covid = np.zeros(number_ports)\n",
    "\n",
    "\n",
    "\n",
    "for index in range(number_ports):\n",
    "    #weights\n",
    "    weights = np.array(np.random.random(5))\n",
    "    weights = weights/np.sum(weights)\n",
    "\n",
    "    #save weights\n",
    "    all_weights_tech_covid[index,:] = weights\n",
    "\n",
    "    #expected returns\n",
    "    returns_array_tech_covid[index] = np.sum((tech_covid_dr.mean()*weights)*252)\n",
    "\n",
    "    #expected volatiltiy\n",
    "    volatility_array_tech_covid[index] = np.sqrt(np.dot(weights.T, np.dot(tech_covid_dr.cov()*252, weights)))\n",
    "\n",
    "    #sharpe ratio\n",
    "    sharpe_array_tech_covid[index] = returns_array_tech_covid[index]/volatility_array_tech_covid[index]"
   ]
  },
  {
   "cell_type": "code",
   "execution_count": 68,
   "metadata": {},
   "outputs": [
    {
     "data": {
      "text/plain": [
       "1.2898301658855291"
      ]
     },
     "execution_count": 68,
     "metadata": {},
     "output_type": "execute_result"
    }
   ],
   "source": [
    "sharpe_array_tech_covid.max()"
   ]
  },
  {
   "cell_type": "code",
   "execution_count": 69,
   "metadata": {},
   "outputs": [
    {
     "data": {
      "text/plain": [
       "array([0.05831981, 0.07284522, 0.83499035, 0.01689324, 0.01695139])"
      ]
     },
     "execution_count": 69,
     "metadata": {},
     "output_type": "execute_result"
    }
   ],
   "source": [
    "index_max_shape_covid_tech = sharpe_array_tech_covid.argmax()\n",
    "weights_array_covid_tech = all_weights_tech_covid[index_max_shape_covid_tech,:]\n",
    "weights_array_covid_tech"
   ]
  },
  {
   "cell_type": "code",
   "execution_count": 71,
   "metadata": {},
   "outputs": [],
   "source": [
    "weights_array_covid_tech = np.array([0.05831981, 0.07284522, 0.83499035, 0.01689324, 0.01695139])"
   ]
  },
  {
   "cell_type": "markdown",
   "metadata": {},
   "source": [
    "### TECH Optimized Weights - 2008"
   ]
  },
  {
   "cell_type": "code",
   "execution_count": 70,
   "metadata": {},
   "outputs": [],
   "source": [
    "# running 10k simulations on portfolio\n",
    "number_ports = 100000\n",
    "all_weights_tech_2008 = np.zeros((number_ports, len(closingprices2008_tech.columns)))\n",
    "returns_array_tech_2008 = np.zeros(number_ports)\n",
    "volatility_array_tech_2008 = np.zeros(number_ports)\n",
    "sharpe_array_tech_2008 = np.zeros(number_ports)\n",
    "\n",
    "np.random.seed(4)\n",
    "\n",
    "for index in range(number_ports):\n",
    "    #weights\n",
    "    weights = np.array(np.random.random(5))\n",
    "    weights = weights/np.sum(weights)\n",
    "\n",
    "    #save weights\n",
    "    all_weights_tech_2008[index,:] = weights\n",
    "\n",
    "    #expected returns\n",
    "    returns_array_tech_2008[index] = np.sum((tech_returns2008.mean()*weights)*252)\n",
    "\n",
    "    #expected volatiltiy\n",
    "    volatility_array_tech_2008[index] = np.sqrt(np.dot(weights.T, np.dot(tech_returns2008.cov()*252, weights)))\n",
    "\n",
    "    #sharpe ratio\n",
    "    sharpe_array_tech_2008[index] = returns_array_tech_2008[index]/volatility_array_tech_2008[index]"
   ]
  },
  {
   "cell_type": "code",
   "execution_count": 72,
   "metadata": {},
   "outputs": [
    {
     "data": {
      "text/plain": [
       "2.0416605531056193"
      ]
     },
     "execution_count": 72,
     "metadata": {},
     "output_type": "execute_result"
    }
   ],
   "source": [
    "sharpe_array_tech_2008.max()"
   ]
  },
  {
   "cell_type": "code",
   "execution_count": 73,
   "metadata": {},
   "outputs": [
    {
     "data": {
      "text/plain": [
       "array([2.18892709e-01, 5.75050292e-01, 3.97318093e-02, 1.66125078e-01,\n",
       "       2.00111131e-04])"
      ]
     },
     "execution_count": 73,
     "metadata": {},
     "output_type": "execute_result"
    }
   ],
   "source": [
    "index_max_shape_2008_tech = sharpe_array_tech_2008.argmax()\n",
    "weights_array_2008_tech = all_weights_tech_2008[index_max_shape_2008_tech,:]\n",
    "weights_array_2008_tech"
   ]
  },
  {
   "cell_type": "code",
   "execution_count": 74,
   "metadata": {},
   "outputs": [],
   "source": [
    "weights_array_2008_tech=np.array([2.18892709e-01, 5.75050292e-01, 3.97318093e-02, 1.66125078e-01,\n",
    "       2.00111131e-04])"
   ]
  },
  {
   "cell_type": "markdown",
   "metadata": {},
   "source": [
    "## Weight Optimization for TRAVEL Industry"
   ]
  },
  {
   "cell_type": "markdown",
   "metadata": {},
   "source": [
    "### Dataframe with COVID Closing Prices -Travel"
   ]
  },
  {
   "cell_type": "code",
   "execution_count": 75,
   "metadata": {},
   "outputs": [
    {
     "data": {
      "text/html": [
       "<div>\n",
       "<style scoped>\n",
       "    .dataframe tbody tr th:only-of-type {\n",
       "        vertical-align: middle;\n",
       "    }\n",
       "\n",
       "    .dataframe tbody tr th {\n",
       "        vertical-align: top;\n",
       "    }\n",
       "\n",
       "    .dataframe thead th {\n",
       "        text-align: right;\n",
       "    }\n",
       "</style>\n",
       "<table border=\"1\" class=\"dataframe\">\n",
       "  <thead>\n",
       "    <tr style=\"text-align: right;\">\n",
       "      <th></th>\n",
       "      <th>EXPE</th>\n",
       "      <th>BKNG</th>\n",
       "      <th>AAL</th>\n",
       "      <th>AAP</th>\n",
       "      <th>LUV</th>\n",
       "    </tr>\n",
       "  </thead>\n",
       "  <tbody>\n",
       "    <tr>\n",
       "      <th>2017-11-01</th>\n",
       "      <td>118.678818</td>\n",
       "      <td>1913.060059</td>\n",
       "      <td>46.526157</td>\n",
       "      <td>79.808350</td>\n",
       "      <td>52.382694</td>\n",
       "    </tr>\n",
       "    <tr>\n",
       "      <th>2017-11-02</th>\n",
       "      <td>120.098473</td>\n",
       "      <td>1911.140015</td>\n",
       "      <td>46.059338</td>\n",
       "      <td>80.737404</td>\n",
       "      <td>52.382694</td>\n",
       "    </tr>\n",
       "    <tr>\n",
       "      <th>2017-11-03</th>\n",
       "      <td>119.651192</td>\n",
       "      <td>1894.489990</td>\n",
       "      <td>46.146866</td>\n",
       "      <td>80.846115</td>\n",
       "      <td>52.528225</td>\n",
       "    </tr>\n",
       "    <tr>\n",
       "      <th>2017-11-06</th>\n",
       "      <td>119.583122</td>\n",
       "      <td>1903.000000</td>\n",
       "      <td>46.205212</td>\n",
       "      <td>79.768799</td>\n",
       "      <td>52.896912</td>\n",
       "    </tr>\n",
       "    <tr>\n",
       "      <th>2017-11-07</th>\n",
       "      <td>116.306206</td>\n",
       "      <td>1645.719971</td>\n",
       "      <td>45.184052</td>\n",
       "      <td>78.454323</td>\n",
       "      <td>52.266262</td>\n",
       "    </tr>\n",
       "  </tbody>\n",
       "</table>\n",
       "</div>"
      ],
      "text/plain": [
       "                  EXPE         BKNG        AAL        AAP        LUV\n",
       "2017-11-01  118.678818  1913.060059  46.526157  79.808350  52.382694\n",
       "2017-11-02  120.098473  1911.140015  46.059338  80.737404  52.382694\n",
       "2017-11-03  119.651192  1894.489990  46.146866  80.846115  52.528225\n",
       "2017-11-06  119.583122  1903.000000  46.205212  79.768799  52.896912\n",
       "2017-11-07  116.306206  1645.719971  45.184052  78.454323  52.266262"
      ]
     },
     "execution_count": 75,
     "metadata": {},
     "output_type": "execute_result"
    }
   ],
   "source": [
    "# create new covid and 2008 dataframe to store ckosing prices of each stock\n",
    "covid_closingprices_ta = pd.DataFrame()\n",
    "\n",
    "# get closing prices for all tickers\n",
    "for ticker in tickers_travel_airline:\n",
    "    covid_closingprices_ta[ticker]=tra_air_covid_ticker['Adj Close'][ticker]\n",
    "    \n",
    "# drop time component on index\n",
    "covid_closingprices_ta.index = covid_closingprices_ta.index.date\n",
    "    \n",
    "covid_closingprices_ta.head()"
   ]
  },
  {
   "cell_type": "markdown",
   "metadata": {},
   "source": [
    "### Dataframe with 2008 Closing Prices -Travel"
   ]
  },
  {
   "cell_type": "code",
   "execution_count": 78,
   "metadata": {},
   "outputs": [
    {
     "data": {
      "text/html": [
       "<div>\n",
       "<style scoped>\n",
       "    .dataframe tbody tr th:only-of-type {\n",
       "        vertical-align: middle;\n",
       "    }\n",
       "\n",
       "    .dataframe tbody tr th {\n",
       "        vertical-align: top;\n",
       "    }\n",
       "\n",
       "    .dataframe thead th {\n",
       "        text-align: right;\n",
       "    }\n",
       "</style>\n",
       "<table border=\"1\" class=\"dataframe\">\n",
       "  <thead>\n",
       "    <tr style=\"text-align: right;\">\n",
       "      <th></th>\n",
       "      <th>EXPE</th>\n",
       "      <th>BKNG</th>\n",
       "      <th>AAL</th>\n",
       "      <th>AAP</th>\n",
       "      <th>LUV</th>\n",
       "    </tr>\n",
       "  </thead>\n",
       "  <tbody>\n",
       "    <tr>\n",
       "      <th>2007-06-25</th>\n",
       "      <td>38.490635</td>\n",
       "      <td>64.500000</td>\n",
       "      <td>27.565760</td>\n",
       "      <td>37.980713</td>\n",
       "      <td>13.836042</td>\n",
       "    </tr>\n",
       "    <tr>\n",
       "      <th>2007-06-26</th>\n",
       "      <td>38.516979</td>\n",
       "      <td>64.160004</td>\n",
       "      <td>26.641878</td>\n",
       "      <td>37.456627</td>\n",
       "      <td>13.503979</td>\n",
       "    </tr>\n",
       "    <tr>\n",
       "      <th>2007-06-27</th>\n",
       "      <td>38.806786</td>\n",
       "      <td>64.860001</td>\n",
       "      <td>27.971140</td>\n",
       "      <td>39.086025</td>\n",
       "      <td>13.679236</td>\n",
       "    </tr>\n",
       "    <tr>\n",
       "      <th>2007-06-28</th>\n",
       "      <td>38.846291</td>\n",
       "      <td>64.269997</td>\n",
       "      <td>29.224987</td>\n",
       "      <td>38.895458</td>\n",
       "      <td>13.771476</td>\n",
       "    </tr>\n",
       "    <tr>\n",
       "      <th>2007-06-29</th>\n",
       "      <td>38.582848</td>\n",
       "      <td>68.739998</td>\n",
       "      <td>28.536783</td>\n",
       "      <td>38.619114</td>\n",
       "      <td>13.753030</td>\n",
       "    </tr>\n",
       "  </tbody>\n",
       "</table>\n",
       "</div>"
      ],
      "text/plain": [
       "                 EXPE       BKNG        AAL        AAP        LUV\n",
       "2007-06-25  38.490635  64.500000  27.565760  37.980713  13.836042\n",
       "2007-06-26  38.516979  64.160004  26.641878  37.456627  13.503979\n",
       "2007-06-27  38.806786  64.860001  27.971140  39.086025  13.679236\n",
       "2007-06-28  38.846291  64.269997  29.224987  38.895458  13.771476\n",
       "2007-06-29  38.582848  68.739998  28.536783  38.619114  13.753030"
      ]
     },
     "execution_count": 78,
     "metadata": {},
     "output_type": "execute_result"
    }
   ],
   "source": [
    "closingprices2008_ta = pd.DataFrame()\n",
    "\n",
    "# get closing prices for all tickers\n",
    "for ticker in tickers_travel_airline:\n",
    "    closingprices2008_ta[ticker]=tra_air_ticker2008['Adj Close'][ticker]\n",
    "    \n",
    "# drop time component on index\n",
    "closingprices2008_ta.index = closingprices2008_ta.index.date\n",
    "    \n",
    "closingprices2008_ta.tail()"
   ]
  },
  {
   "cell_type": "markdown",
   "metadata": {},
   "source": [
    "### Travel Optimized Weights - COVID"
   ]
  },
  {
   "cell_type": "code",
   "execution_count": 79,
   "metadata": {},
   "outputs": [],
   "source": [
    "# daily returns\n",
    "ta_covid_dr = covid_closingprices_ta.pct_change().dropna()\n",
    "ta_returns2008 = closingprices2008_ta.pct_change().dropna()"
   ]
  },
  {
   "cell_type": "code",
   "execution_count": 80,
   "metadata": {},
   "outputs": [],
   "source": [
    "# running 10k simulations on portfolio\n",
    "number_ports = 100000\n",
    "all_weights_ta_covid = np.zeros((number_ports, len(covid_closingprices_ta.columns)))\n",
    "returns_array_ta_covid = np.zeros(number_ports)\n",
    "volatility_array_ta_covid = np.zeros(number_ports)\n",
    "sharpe_array_ta_covid = np.zeros(number_ports)\n",
    "\n",
    "\n",
    "\n",
    "for index in range(number_ports):\n",
    "    #weights\n",
    "    weights = np.array(np.random.random(5))\n",
    "    weights = weights/np.sum(weights)\n",
    "\n",
    "    #save weights\n",
    "    all_weights_ta_covid[index,:] = weights\n",
    "\n",
    "    #expected returns\n",
    "    returns_array_ta_covid[index] = np.sum((ta_covid_dr.mean()*weights)*252)\n",
    "\n",
    "    #expected volatiltiy\n",
    "    volatility_array_ta_covid[index] = np.sqrt(np.dot(weights.T, np.dot(ta_covid_dr.cov()*252, weights)))\n",
    "\n",
    "    #sharpe ratio\n",
    "    sharpe_array_ta_covid[index] = returns_array_ta_covid[index]/volatility_array_ta_covid[index]"
   ]
  },
  {
   "cell_type": "code",
   "execution_count": 82,
   "metadata": {},
   "outputs": [
    {
     "data": {
      "text/plain": [
       "1.250749691176348"
      ]
     },
     "execution_count": 82,
     "metadata": {},
     "output_type": "execute_result"
    }
   ],
   "source": [
    "sharpe_array_ta_covid.max()"
   ]
  },
  {
   "cell_type": "code",
   "execution_count": 83,
   "metadata": {},
   "outputs": [
    {
     "data": {
      "text/plain": [
       "array([0.07921269, 0.10322484, 0.01349538, 0.76923025, 0.03483684])"
      ]
     },
     "execution_count": 83,
     "metadata": {},
     "output_type": "execute_result"
    }
   ],
   "source": [
    "index_max_shape_covid_ta = sharpe_array_ta_covid.argmax()\n",
    "weights_array_covid_ta = all_weights_ta_covid[index_max_shape_covid_ta,:]\n",
    "weights_array_covid_ta"
   ]
  },
  {
   "cell_type": "code",
   "execution_count": 84,
   "metadata": {},
   "outputs": [],
   "source": [
    "weights_array_covid_ta=np.array([0.07921269, 0.10322484, 0.01349538, 0.76923025, 0.03483684])"
   ]
  },
  {
   "cell_type": "markdown",
   "metadata": {},
   "source": [
    "### Travel Optimized Weights - 2008"
   ]
  },
  {
   "cell_type": "code",
   "execution_count": 85,
   "metadata": {},
   "outputs": [],
   "source": [
    "# running 10k simulations on portfolio\n",
    "number_ports = 100000\n",
    "all_weights_ta_2008 = np.zeros((number_ports, len(closingprices2008_ta.columns)))\n",
    "returns_array_ta_2008 = np.zeros(number_ports)\n",
    "volatility_array_ta_2008 = np.zeros(number_ports)\n",
    "sharpe_array_ta_2008 = np.zeros(number_ports)\n",
    "\n",
    "np.random.seed(4)\n",
    "\n",
    "for index in range(number_ports):\n",
    "    #weights\n",
    "    weights = np.array(np.random.random(5))\n",
    "    weights = weights/np.sum(weights)\n",
    "\n",
    "    #save weights\n",
    "    all_weights_ta_2008[index,:] = weights\n",
    "\n",
    "    #expected returns\n",
    "    returns_array_ta_2008[index] = np.sum((ta_returns2008.mean()*weights)*252)\n",
    "\n",
    "    #expected volatiltiy\n",
    "    volatility_array_ta_2008[index] = np.sqrt(np.dot(weights.T, np.dot(ta_returns2008.cov()*252, weights)))\n",
    "\n",
    "    #sharpe ratio\n",
    "    sharpe_array_ta_2008[index] = returns_array_ta_2008[index]/volatility_array_ta_2008[index]"
   ]
  },
  {
   "cell_type": "code",
   "execution_count": 86,
   "metadata": {},
   "outputs": [
    {
     "data": {
      "text/plain": [
       "2.083246114873164"
      ]
     },
     "execution_count": 86,
     "metadata": {},
     "output_type": "execute_result"
    }
   ],
   "source": [
    "sharpe_array_ta_2008.max()"
   ]
  },
  {
   "cell_type": "code",
   "execution_count": 87,
   "metadata": {},
   "outputs": [
    {
     "data": {
      "text/plain": [
       "array([0.14734116, 0.65385975, 0.18062361, 0.01214482, 0.00603065])"
      ]
     },
     "execution_count": 87,
     "metadata": {},
     "output_type": "execute_result"
    }
   ],
   "source": [
    "index_max_shape_2008_ta = sharpe_array_ta_2008.argmax()\n",
    "weights_array_2008_ta = all_weights_ta_2008[index_max_shape_2008_ta,:]\n",
    "weights_array_2008_ta"
   ]
  },
  {
   "cell_type": "code",
   "execution_count": 90,
   "metadata": {},
   "outputs": [],
   "source": [
    "weights_array_2008_ta=np.array([0.14734116, 0.65385975, 0.18062361, 0.01214482, 0.00603065])"
   ]
  },
  {
   "cell_type": "markdown",
   "metadata": {},
   "source": [
    "## Weight Optimization for ENERGY Industry"
   ]
  },
  {
   "cell_type": "markdown",
   "metadata": {},
   "source": [
    "### Dataframe with Covid Closing Prices - ENERGY"
   ]
  },
  {
   "cell_type": "code",
   "execution_count": 91,
   "metadata": {},
   "outputs": [
    {
     "data": {
      "text/html": [
       "<div>\n",
       "<style scoped>\n",
       "    .dataframe tbody tr th:only-of-type {\n",
       "        vertical-align: middle;\n",
       "    }\n",
       "\n",
       "    .dataframe tbody tr th {\n",
       "        vertical-align: top;\n",
       "    }\n",
       "\n",
       "    .dataframe thead th {\n",
       "        text-align: right;\n",
       "    }\n",
       "</style>\n",
       "<table border=\"1\" class=\"dataframe\">\n",
       "  <thead>\n",
       "    <tr style=\"text-align: right;\">\n",
       "      <th></th>\n",
       "      <th>XOM</th>\n",
       "      <th>BP</th>\n",
       "      <th>COP</th>\n",
       "      <th>CVX</th>\n",
       "      <th>TOT</th>\n",
       "    </tr>\n",
       "  </thead>\n",
       "  <tbody>\n",
       "    <tr>\n",
       "      <th>2017-11-01</th>\n",
       "      <td>70.515472</td>\n",
       "      <td>33.086613</td>\n",
       "      <td>48.129959</td>\n",
       "      <td>100.545921</td>\n",
       "      <td>46.929188</td>\n",
       "    </tr>\n",
       "    <tr>\n",
       "      <th>2017-11-02</th>\n",
       "      <td>70.229614</td>\n",
       "      <td>33.013561</td>\n",
       "      <td>48.480999</td>\n",
       "      <td>100.051422</td>\n",
       "      <td>47.221355</td>\n",
       "    </tr>\n",
       "    <tr>\n",
       "      <th>2017-11-03</th>\n",
       "      <td>69.935326</td>\n",
       "      <td>32.924267</td>\n",
       "      <td>48.924419</td>\n",
       "      <td>99.756477</td>\n",
       "      <td>47.021023</td>\n",
       "    </tr>\n",
       "    <tr>\n",
       "      <th>2017-11-06</th>\n",
       "      <td>70.414566</td>\n",
       "      <td>33.614246</td>\n",
       "      <td>49.580315</td>\n",
       "      <td>101.534889</td>\n",
       "      <td>47.546906</td>\n",
       "    </tr>\n",
       "    <tr>\n",
       "      <th>2017-11-07</th>\n",
       "      <td>70.271652</td>\n",
       "      <td>33.671074</td>\n",
       "      <td>49.404804</td>\n",
       "      <td>101.708405</td>\n",
       "      <td>47.446735</td>\n",
       "    </tr>\n",
       "  </tbody>\n",
       "</table>\n",
       "</div>"
      ],
      "text/plain": [
       "                  XOM         BP        COP         CVX        TOT\n",
       "2017-11-01  70.515472  33.086613  48.129959  100.545921  46.929188\n",
       "2017-11-02  70.229614  33.013561  48.480999  100.051422  47.221355\n",
       "2017-11-03  69.935326  32.924267  48.924419   99.756477  47.021023\n",
       "2017-11-06  70.414566  33.614246  49.580315  101.534889  47.546906\n",
       "2017-11-07  70.271652  33.671074  49.404804  101.708405  47.446735"
      ]
     },
     "execution_count": 91,
     "metadata": {},
     "output_type": "execute_result"
    }
   ],
   "source": [
    "# create new covid and 2008 dataframe to store ckosing prices of each stock\n",
    "covid_closingprices_nrg = pd.DataFrame()\n",
    "\n",
    "# get closing prices for all tickers\n",
    "for ticker in energy_tickers:\n",
    "    covid_closingprices_nrg[ticker]=energy_covid_ticker['Adj Close'][ticker]\n",
    "    \n",
    "# drop time component on index\n",
    "covid_closingprices_nrg.index = covid_closingprices_nrg.index.date\n",
    "    \n",
    "covid_closingprices_nrg.head()"
   ]
  },
  {
   "cell_type": "markdown",
   "metadata": {},
   "source": [
    "### Dataframe with 2008 Closing Prices - ENERGY"
   ]
  },
  {
   "cell_type": "code",
   "execution_count": 92,
   "metadata": {},
   "outputs": [
    {
     "data": {
      "text/html": [
       "<div>\n",
       "<style scoped>\n",
       "    .dataframe tbody tr th:only-of-type {\n",
       "        vertical-align: middle;\n",
       "    }\n",
       "\n",
       "    .dataframe tbody tr th {\n",
       "        vertical-align: top;\n",
       "    }\n",
       "\n",
       "    .dataframe thead th {\n",
       "        text-align: right;\n",
       "    }\n",
       "</style>\n",
       "<table border=\"1\" class=\"dataframe\">\n",
       "  <thead>\n",
       "    <tr style=\"text-align: right;\">\n",
       "      <th></th>\n",
       "      <th>XOM</th>\n",
       "      <th>BP</th>\n",
       "      <th>COP</th>\n",
       "      <th>CVX</th>\n",
       "      <th>TOT</th>\n",
       "    </tr>\n",
       "  </thead>\n",
       "  <tbody>\n",
       "    <tr>\n",
       "      <th>2007-06-25</th>\n",
       "      <td>52.500305</td>\n",
       "      <td>33.523296</td>\n",
       "      <td>37.768803</td>\n",
       "      <td>49.850029</td>\n",
       "      <td>37.032543</td>\n",
       "    </tr>\n",
       "    <tr>\n",
       "      <th>2007-06-26</th>\n",
       "      <td>52.149746</td>\n",
       "      <td>33.661957</td>\n",
       "      <td>36.684723</td>\n",
       "      <td>49.699764</td>\n",
       "      <td>36.748394</td>\n",
       "    </tr>\n",
       "    <tr>\n",
       "      <th>2007-06-27</th>\n",
       "      <td>53.207775</td>\n",
       "      <td>33.924938</td>\n",
       "      <td>37.391308</td>\n",
       "      <td>50.414940</td>\n",
       "      <td>36.838379</td>\n",
       "    </tr>\n",
       "    <tr>\n",
       "      <th>2007-06-28</th>\n",
       "      <td>53.284252</td>\n",
       "      <td>34.331371</td>\n",
       "      <td>37.139641</td>\n",
       "      <td>50.589203</td>\n",
       "      <td>37.752354</td>\n",
       "    </tr>\n",
       "    <tr>\n",
       "      <th>2007-06-29</th>\n",
       "      <td>53.462708</td>\n",
       "      <td>34.493946</td>\n",
       "      <td>37.991432</td>\n",
       "      <td>50.625267</td>\n",
       "      <td>38.349037</td>\n",
       "    </tr>\n",
       "  </tbody>\n",
       "</table>\n",
       "</div>"
      ],
      "text/plain": [
       "                  XOM         BP        COP        CVX        TOT\n",
       "2007-06-25  52.500305  33.523296  37.768803  49.850029  37.032543\n",
       "2007-06-26  52.149746  33.661957  36.684723  49.699764  36.748394\n",
       "2007-06-27  53.207775  33.924938  37.391308  50.414940  36.838379\n",
       "2007-06-28  53.284252  34.331371  37.139641  50.589203  37.752354\n",
       "2007-06-29  53.462708  34.493946  37.991432  50.625267  38.349037"
      ]
     },
     "execution_count": 92,
     "metadata": {},
     "output_type": "execute_result"
    }
   ],
   "source": [
    "closingprices2008_nrg = pd.DataFrame()\n",
    "\n",
    "# get closing prices for all tickers\n",
    "for ticker in energy_tickers:\n",
    "    closingprices2008_nrg[ticker]=energy_ticker2008['Adj Close'][ticker]\n",
    "    \n",
    "# drop time component on index\n",
    "closingprices2008_nrg.index = closingprices2008_nrg.index.date\n",
    "    \n",
    "closingprices2008_nrg.tail()"
   ]
  },
  {
   "cell_type": "markdown",
   "metadata": {},
   "source": [
    "### Energy Optimized Weights - COVID"
   ]
  },
  {
   "cell_type": "code",
   "execution_count": 93,
   "metadata": {},
   "outputs": [],
   "source": [
    "# daily returns\n",
    "nrg_covid_dr = covid_closingprices_nrg.pct_change().dropna()\n",
    "nrg_returns2008 = closingprices2008_nrg.pct_change().dropna()"
   ]
  },
  {
   "cell_type": "code",
   "execution_count": 94,
   "metadata": {},
   "outputs": [],
   "source": [
    "# running 10k simulations on portfolio\n",
    "number_ports = 100000\n",
    "all_weights_nrg_covid = np.zeros((number_ports, len(covid_closingprices_nrg.columns)))\n",
    "returns_array_nrg_covid = np.zeros(number_ports)\n",
    "volatility_array_nrg_covid = np.zeros(number_ports)\n",
    "sharpe_array_nrg_covid = np.zeros(number_ports)\n",
    "\n",
    "\n",
    "\n",
    "for index in range(number_ports):\n",
    "    #weights\n",
    "    weights = np.array(np.random.random(5))\n",
    "    weights = weights/np.sum(weights)\n",
    "\n",
    "    #save weights\n",
    "    all_weights_nrg_covid[index,:] = weights\n",
    "\n",
    "    #expected returns\n",
    "    returns_array_nrg_covid[index] = np.sum((nrg_covid_dr.mean()*weights)*252)\n",
    "\n",
    "    #expected volatiltiy\n",
    "    volatility_array_nrg_covid[index] = np.sqrt(np.dot(weights.T, np.dot(nrg_covid_dr.cov()*252, weights)))\n",
    "\n",
    "    #sharpe ratio\n",
    "    sharpe_array_nrg_covid[index] = returns_array_nrg_covid[index]/volatility_array_nrg_covid[index]"
   ]
  },
  {
   "cell_type": "code",
   "execution_count": 95,
   "metadata": {},
   "outputs": [
    {
     "data": {
      "text/plain": [
       "0.3752023504481871"
      ]
     },
     "execution_count": 95,
     "metadata": {},
     "output_type": "execute_result"
    }
   ],
   "source": [
    "sharpe_array_nrg_covid.max()"
   ]
  },
  {
   "cell_type": "code",
   "execution_count": 96,
   "metadata": {},
   "outputs": [
    {
     "data": {
      "text/plain": [
       "array([0.00465928, 0.09414364, 0.75722529, 0.12846314, 0.01550865])"
      ]
     },
     "execution_count": 96,
     "metadata": {},
     "output_type": "execute_result"
    }
   ],
   "source": [
    "index_max_shape_covid_nrg = sharpe_array_nrg_covid.argmax()\n",
    "weights_array_covid_nrg = all_weights_nrg_covid[index_max_shape_covid_nrg,:]\n",
    "weights_array_covid_nrg"
   ]
  },
  {
   "cell_type": "code",
   "execution_count": 100,
   "metadata": {},
   "outputs": [],
   "source": [
    "weights_array_covid_nrg=np.array([0.00465928, 0.09414364, 0.75722529, 0.12846314, 0.01550865])"
   ]
  },
  {
   "cell_type": "markdown",
   "metadata": {},
   "source": [
    "### Energy Optimized Weights - 2008"
   ]
  },
  {
   "cell_type": "code",
   "execution_count": 98,
   "metadata": {},
   "outputs": [],
   "source": [
    "# running 10k simulations on portfolio\n",
    "number_ports = 100000\n",
    "all_weights_nrg_2008 = np.zeros((number_ports, len(closingprices2008_nrg.columns)))\n",
    "returns_array_nrg_2008 = np.zeros(number_ports)\n",
    "volatility_array_nrg_2008 = np.zeros(number_ports)\n",
    "sharpe_array_nrg_2008 = np.zeros(number_ports)\n",
    "\n",
    "np.random.seed(4)\n",
    "\n",
    "for index in range(number_ports):\n",
    "    #weights\n",
    "    weights = np.array(np.random.random(5))\n",
    "    weights = weights/np.sum(weights)\n",
    "\n",
    "    #save weights\n",
    "    all_weights_nrg_2008[index,:] = weights\n",
    "\n",
    "    #expected returns\n",
    "    returns_array_nrg_2008[index] = np.sum((nrg_returns2008.mean()*weights)*252)\n",
    "\n",
    "    #expected volatiltiy\n",
    "    volatility_array_nrg_2008[index] = np.sqrt(np.dot(weights.T, np.dot(nrg_returns2008.cov()*252, weights)))\n",
    "\n",
    "    #sharpe ratio\n",
    "    sharpe_array_nrg_2008[index] = returns_array_nrg_2008[index]/volatility_array_nrg_2008[index]"
   ]
  },
  {
   "cell_type": "code",
   "execution_count": 101,
   "metadata": {},
   "outputs": [
    {
     "data": {
      "text/plain": [
       "1.2619428350562292"
      ]
     },
     "execution_count": 101,
     "metadata": {},
     "output_type": "execute_result"
    }
   ],
   "source": [
    "sharpe_array_nrg_2008.max()"
   ]
  },
  {
   "cell_type": "code",
   "execution_count": 102,
   "metadata": {},
   "outputs": [
    {
     "data": {
      "text/plain": [
       "array([0.17478148, 0.00524994, 0.00542368, 0.3866935 , 0.42785141])"
      ]
     },
     "execution_count": 102,
     "metadata": {},
     "output_type": "execute_result"
    }
   ],
   "source": [
    "index_max_shape_2008_nrg = sharpe_array_nrg_2008.argmax()\n",
    "weights_array_2008_nrg = all_weights_nrg_2008[index_max_shape_2008_nrg,:]\n",
    "weights_array_2008_nrg"
   ]
  },
  {
   "cell_type": "code",
   "execution_count": 103,
   "metadata": {},
   "outputs": [],
   "source": [
    "weights_array_2008_nrg=np.array([0.17478148, 0.00524994, 0.00542368, 0.3866935 , 0.42785141])"
   ]
  },
  {
   "cell_type": "code",
   "execution_count": null,
   "metadata": {},
   "outputs": [],
   "source": []
  }
 ],
 "metadata": {
  "kernelspec": {
   "display_name": "Python [conda env:alpacaenv]",
   "language": "python",
   "name": "conda-env-alpacaenv-py"
  },
  "language_info": {
   "codemirror_mode": {
    "name": "ipython",
    "version": 3
   },
   "file_extension": ".py",
   "mimetype": "text/x-python",
   "name": "python",
   "nbconvert_exporter": "python",
   "pygments_lexer": "ipython3",
   "version": "3.7.7"
  }
 },
 "nbformat": 4,
 "nbformat_minor": 4
}
