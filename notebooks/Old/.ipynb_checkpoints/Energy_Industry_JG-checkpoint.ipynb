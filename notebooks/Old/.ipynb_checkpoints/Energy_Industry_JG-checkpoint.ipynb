{
 "cells": [
  {
   "cell_type": "code",
   "execution_count": 1,
   "metadata": {},
   "outputs": [],
   "source": [
    "import os\n",
    "import pandas as pd\n",
    "import numpy as np\n",
    "import alpaca_trade_api as tradeapi\n",
    "# Load .env enviroment variables\n",
    "from dotenv import load_dotenv\n",
    "load_dotenv()\n",
    "import pathlib as Path"
   ]
  },
  {
   "cell_type": "code",
   "execution_count": 2,
   "metadata": {},
   "outputs": [],
   "source": [
    "# storing alpaca key and secret key in variables \n",
    "alpaca_api_key = os.getenv('ALPACA_API_KEY')\n",
    "alpaca_secret_key = os.getenv('ALPACA_SECRET_KEY')\n",
    "\n",
    "api = tradeapi.REST(alpaca_api_key,alpaca_secret_key,api_version='V2')"
   ]
  },
  {
   "cell_type": "code",
   "execution_count": 3,
   "metadata": {},
   "outputs": [],
   "source": [
    "# set time frame\n",
    "timeframe = '1D'\n",
    "\n",
    "# start and 'end' date for covid stock market \n",
    "start_date_covid = pd.Timestamp('2020-01-01',tz='America/New_York').isoformat()\n",
    "end_date_covid = pd.Timestamp('2020-11-20',tz='America/New_York').isoformat()\n",
    "\n",
    "# start and end date for 2008 recession \n",
    "start_date_2008 = pd.Timestamp('2007-07-01',tz='America/New_York').isoformat()\n",
    "end_date_2008 = pd.Timestamp('2009-07-01',tz='America/New_York').isoformat()\n",
    "\n",
    "# set tickers (per industry)\n",
    "energy_tickers = ['XOM','BP','COP','CVX', 'TOT']\n",
    "# financeind_tickers\n",
    "# techind_tickers etc\n",
    "\n",
    "# get stock data from covid\n",
    "energy_covid_ticker = api.get_barset(energy_tickers,timeframe,start=start_date_covid,end = end_date_covid).df\n",
    "\n",
    "# get stock data from 2008 recession\n",
    "energy_ticker2008 = api.get_barset(energy_tickers,timeframe,start=start_date_2008,end = end_date_2008).df"
   ]
  },
  {
   "cell_type": "code",
   "execution_count": 4,
   "metadata": {},
   "outputs": [
    {
     "data": {
      "text/html": [
       "<div>\n",
       "<style scoped>\n",
       "    .dataframe tbody tr th:only-of-type {\n",
       "        vertical-align: middle;\n",
       "    }\n",
       "\n",
       "    .dataframe tbody tr th {\n",
       "        vertical-align: top;\n",
       "    }\n",
       "\n",
       "    .dataframe thead th {\n",
       "        text-align: right;\n",
       "    }\n",
       "</style>\n",
       "<table border=\"1\" class=\"dataframe\">\n",
       "  <thead>\n",
       "    <tr style=\"text-align: right;\">\n",
       "      <th></th>\n",
       "      <th>XOM</th>\n",
       "      <th>BP</th>\n",
       "      <th>COP</th>\n",
       "      <th>CVX</th>\n",
       "      <th>TOT</th>\n",
       "    </tr>\n",
       "  </thead>\n",
       "  <tbody>\n",
       "    <tr>\n",
       "      <th>2020-01-02</th>\n",
       "      <td>70.900</td>\n",
       "      <td>38.14</td>\n",
       "      <td>65.470</td>\n",
       "      <td>121.44</td>\n",
       "      <td>55.28</td>\n",
       "    </tr>\n",
       "    <tr>\n",
       "      <th>2020-01-03</th>\n",
       "      <td>70.320</td>\n",
       "      <td>38.84</td>\n",
       "      <td>65.710</td>\n",
       "      <td>121.01</td>\n",
       "      <td>55.47</td>\n",
       "    </tr>\n",
       "    <tr>\n",
       "      <th>2020-01-06</th>\n",
       "      <td>70.870</td>\n",
       "      <td>39.85</td>\n",
       "      <td>66.480</td>\n",
       "      <td>120.61</td>\n",
       "      <td>56.53</td>\n",
       "    </tr>\n",
       "    <tr>\n",
       "      <th>2020-01-07</th>\n",
       "      <td>70.280</td>\n",
       "      <td>39.44</td>\n",
       "      <td>66.480</td>\n",
       "      <td>119.04</td>\n",
       "      <td>56.19</td>\n",
       "    </tr>\n",
       "    <tr>\n",
       "      <th>2020-01-08</th>\n",
       "      <td>69.235</td>\n",
       "      <td>38.83</td>\n",
       "      <td>64.935</td>\n",
       "      <td>117.69</td>\n",
       "      <td>55.85</td>\n",
       "    </tr>\n",
       "  </tbody>\n",
       "</table>\n",
       "</div>"
      ],
      "text/plain": [
       "               XOM     BP     COP     CVX    TOT\n",
       "2020-01-02  70.900  38.14  65.470  121.44  55.28\n",
       "2020-01-03  70.320  38.84  65.710  121.01  55.47\n",
       "2020-01-06  70.870  39.85  66.480  120.61  56.53\n",
       "2020-01-07  70.280  39.44  66.480  119.04  56.19\n",
       "2020-01-08  69.235  38.83  64.935  117.69  55.85"
      ]
     },
     "execution_count": 4,
     "metadata": {},
     "output_type": "execute_result"
    }
   ],
   "source": [
    "# create new covid and 2008 dataframe to store ckosing prices of each stock\n",
    "\n",
    "energy_covid_closingprices = pd.DataFrame()\n",
    "\n",
    "# get closing prices for all tickers\n",
    "for ticker in energy_tickers:\n",
    "    energy_covid_closingprices[ticker]=energy_covid_ticker[ticker]['close']\n",
    "    \n",
    "# drop time component on index\n",
    "energy_covid_closingprices.index = energy_covid_closingprices.index.date\n",
    "    \n",
    "energy_covid_closingprices.head()"
   ]
  },
  {
   "cell_type": "code",
   "execution_count": 5,
   "metadata": {},
   "outputs": [
    {
     "data": {
      "text/html": [
       "<div>\n",
       "<style scoped>\n",
       "    .dataframe tbody tr th:only-of-type {\n",
       "        vertical-align: middle;\n",
       "    }\n",
       "\n",
       "    .dataframe tbody tr th {\n",
       "        vertical-align: top;\n",
       "    }\n",
       "\n",
       "    .dataframe thead th {\n",
       "        text-align: right;\n",
       "    }\n",
       "</style>\n",
       "<table border=\"1\" class=\"dataframe\">\n",
       "  <thead>\n",
       "    <tr style=\"text-align: right;\">\n",
       "      <th></th>\n",
       "      <th>XOM</th>\n",
       "      <th>BP</th>\n",
       "      <th>COP</th>\n",
       "      <th>CVX</th>\n",
       "      <th>TOT</th>\n",
       "    </tr>\n",
       "  </thead>\n",
       "  <tbody>\n",
       "    <tr>\n",
       "      <th>2020-01-02</th>\n",
       "      <td>70.900</td>\n",
       "      <td>38.14</td>\n",
       "      <td>65.470</td>\n",
       "      <td>121.44</td>\n",
       "      <td>55.28</td>\n",
       "    </tr>\n",
       "    <tr>\n",
       "      <th>2020-01-03</th>\n",
       "      <td>70.320</td>\n",
       "      <td>38.84</td>\n",
       "      <td>65.710</td>\n",
       "      <td>121.01</td>\n",
       "      <td>55.47</td>\n",
       "    </tr>\n",
       "    <tr>\n",
       "      <th>2020-01-06</th>\n",
       "      <td>70.870</td>\n",
       "      <td>39.85</td>\n",
       "      <td>66.480</td>\n",
       "      <td>120.61</td>\n",
       "      <td>56.53</td>\n",
       "    </tr>\n",
       "    <tr>\n",
       "      <th>2020-01-07</th>\n",
       "      <td>70.280</td>\n",
       "      <td>39.44</td>\n",
       "      <td>66.480</td>\n",
       "      <td>119.04</td>\n",
       "      <td>56.19</td>\n",
       "    </tr>\n",
       "    <tr>\n",
       "      <th>2020-01-08</th>\n",
       "      <td>69.235</td>\n",
       "      <td>38.83</td>\n",
       "      <td>64.935</td>\n",
       "      <td>117.69</td>\n",
       "      <td>55.85</td>\n",
       "    </tr>\n",
       "  </tbody>\n",
       "</table>\n",
       "</div>"
      ],
      "text/plain": [
       "               XOM     BP     COP     CVX    TOT\n",
       "2020-01-02  70.900  38.14  65.470  121.44  55.28\n",
       "2020-01-03  70.320  38.84  65.710  121.01  55.47\n",
       "2020-01-06  70.870  39.85  66.480  120.61  56.53\n",
       "2020-01-07  70.280  39.44  66.480  119.04  56.19\n",
       "2020-01-08  69.235  38.83  64.935  117.69  55.85"
      ]
     },
     "execution_count": 5,
     "metadata": {},
     "output_type": "execute_result"
    }
   ],
   "source": [
    "energy_closingprices2008 = pd.DataFrame()\n",
    "\n",
    "# get closing prices for all tickers\n",
    "for ticker in energy_tickers:\n",
    "    energy_closingprices2008[ticker]=energy_ticker2008[ticker]['close']\n",
    "    \n",
    "# drop time component on index\n",
    "energy_closingprices2008.index = energy_closingprices2008.index.date\n",
    "    \n",
    "energy_covid_closingprices.head()"
   ]
  },
  {
   "cell_type": "code",
   "execution_count": 6,
   "metadata": {},
   "outputs": [],
   "source": [
    "energy_covid_dr = energy_covid_closingprices.pct_change().dropna()\n",
    "enerygy_returns2008 = energy_closingprices2008.pct_change().dropna()"
   ]
  },
  {
   "cell_type": "markdown",
   "metadata": {},
   "source": [
    "### Covid Weighting"
   ]
  },
  {
   "cell_type": "code",
   "execution_count": 8,
   "metadata": {},
   "outputs": [
    {
     "name": "stdout",
     "output_type": "stream",
     "text": [
      "Index(['XOM', 'BP', 'COP', 'CVX', 'TOT'], dtype='object')\n",
      "Weights\n",
      "[0.2 0.2 0.2 0.2 0.2]\n",
      "Expected returns\n",
      "-0.34866491699929814\n",
      "Expected volatility\n",
      "0.5889978255446008\n",
      "Shape ratio\n",
      "-0.5919629952401176\n"
     ]
    }
   ],
   "source": []
  },
  {
   "cell_type": "code",
   "execution_count": 10,
   "metadata": {},
   "outputs": [],
   "source": [
    "# running 100k simulations on portfolio\n",
    "number_ports = 100000\n",
    "energy_covid_all_weights = np.zeros((number_ports, len(energy_covid_closingprices.columns)))\n",
    "energy_covid_returns_array = np.zeros(number_ports)\n",
    "energy_covid_volatility_array = np.zeros(number_ports)\n",
    "energy_covid_sharpe_array = np.zeros(number_ports)\n",
    "\n",
    "np.random.seed(4)\n",
    "\n",
    "for index in range(number_ports):\n",
    "  #weights\n",
    "    weights = np.array(np.random.random(5))\n",
    "    weights = weights/np.sum(weights)\n",
    "\n",
    "  #save weights\n",
    "    energy_covid_all_weights[index,:] = weights\n",
    "\n",
    "  #expected returns\n",
    "    energy_covid_returns_array[index] = np.sum((energy_covid_dr.mean()*weights)*252)\n",
    "\n",
    "  #expected volatiltiy\n",
    "    energy_covid_volatility_array[index] = np.sqrt(np.dot(weights.T, np.dot(energy_covid_dr.cov()*252, weights)))\n",
    "\n",
    "  #sharpe ratio\n",
    "    energy_covid_sharpe_array[index] = energy_covid_returns_array[index]/energy_covid_volatility_array[index]"
   ]
  },
  {
   "cell_type": "code",
   "execution_count": 11,
   "metadata": {},
   "outputs": [
    {
     "data": {
      "text/plain": [
       "-0.27391789760242874"
      ]
     },
     "execution_count": 11,
     "metadata": {},
     "output_type": "execute_result"
    }
   ],
   "source": [
    "#find highest sharpe ratio\n",
    "energy_covid_sharpe_array.max()"
   ]
  },
  {
   "cell_type": "code",
   "execution_count": 12,
   "metadata": {},
   "outputs": [
    {
     "data": {
      "text/plain": [
       "64780"
      ]
     },
     "execution_count": 12,
     "metadata": {},
     "output_type": "execute_result"
    }
   ],
   "source": [
    "#find shape weights by index\n",
    "energy_covid_index_max_shape = energy_covid_sharpe_array.argmax()\n",
    "energy_covid_index_max_shape"
   ]
  },
  {
   "cell_type": "code",
   "execution_count": 13,
   "metadata": {},
   "outputs": [
    {
     "data": {
      "text/plain": [
       "array([0.03726013, 0.0048937 , 0.00326678, 0.09454183, 0.86003756])"
      ]
     },
     "execution_count": 13,
     "metadata": {},
     "output_type": "execute_result"
    }
   ],
   "source": [
    "#look at the weights from the index\n",
    "energy_covid_weights_array = energy_covid_all_weights[energy_covid_index_max_shape,:]\n",
    "energy_covid_weights_array"
   ]
  },
  {
   "cell_type": "code",
   "execution_count": null,
   "metadata": {},
   "outputs": [],
   "source": [
    "energy_covid_weights_array = np.array([0.03726013, 0.0048937 , 0.00326678, 0.09454183, 0.86003756])"
   ]
  },
  {
   "cell_type": "code",
   "execution_count": 17,
   "metadata": {},
   "outputs": [
    {
     "name": "stdout",
     "output_type": "stream",
     "text": [
      "Index(['XOM', 'BP', 'COP', 'CVX', 'TOT'], dtype='object')\n",
      "Expected returns\n",
      "-0.1620120472392539\n",
      "Expected volatility\n",
      "0.5914620718738218\n",
      "Shape ratio\n",
      "-0.27391789760242874\n"
     ]
    }
   ],
   "source": [
    "#Name of stocks in portfolio\n",
    "print(energy_covid_closingprices.columns)\n",
    "\n",
    "#expect returns\n",
    "print('Expected returns')\n",
    "energy_covid_exp_return = np.sum((energy_covid_dr.mean()*energy_covid_weights_array)*252)\n",
    "print(energy_covid_exp_return)\n",
    "\n",
    "#expected STD/volatility\n",
    "print('Expected volatility')\n",
    "energy_covid_exp_volat = np.sqrt(np.dot(energy_covid_weights_array.T, np.dot(energy_covid_dr.cov()*252, energy_covid_weights_array)))\n",
    "print(energy_covid_exp_volat)\n",
    "\n",
    "#Shape ratio\n",
    "print('Shape ratio')\n",
    "energy_covid_sharpe = energy_covid_exp_return/energy_covid_exp_volat\n",
    "print(energy_covid_sharpe)"
   ]
  },
  {
   "cell_type": "markdown",
   "metadata": {},
   "source": [
    "### 2008 Weighting"
   ]
  },
  {
   "cell_type": "code",
   "execution_count": 21,
   "metadata": {},
   "outputs": [
    {
     "name": "stdout",
     "output_type": "stream",
     "text": [
      "Index(['XOM', 'BP', 'COP', 'CVX', 'TOT'], dtype='object')\n",
      "Weights\n",
      "[0.2 0.2 0.2 0.2 0.2]\n",
      "Expected returns\n",
      "1.3460929828034986\n",
      "Expected volatility\n",
      "0.9213353784203188\n",
      "Shape ratio\n",
      "1.4610238728826963\n"
     ]
    }
   ],
   "source": []
  },
  {
   "cell_type": "code",
   "execution_count": 22,
   "metadata": {},
   "outputs": [],
   "source": [
    "# running 100k simulations on portfolio\n",
    "number_ports = 100000\n",
    "energy_2008_all_weights = np.zeros((number_ports, len(energy_closingprices2008.columns)))\n",
    "energy_2008_returns_array = np.zeros(number_ports)\n",
    "energy_2008_volatility_array = np.zeros(number_ports)\n",
    "energy_2008_sharpe_array = np.zeros(number_ports)\n",
    "\n",
    "np.random.seed(5)\n",
    "\n",
    "for index in range(number_ports):\n",
    "  #weights\n",
    "    weights = np.array(np.random.random(5))\n",
    "    weights = weights/np.sum(weights)\n",
    "\n",
    "  #save weights\n",
    "    energy_2008_all_weights[index,:] = weights\n",
    "\n",
    "  #expected returns\n",
    "    energy_2008_returns_array[index] = np.sum((enerygy_returns2008.mean()*weights)*252)\n",
    "\n",
    "  #expected volatiltiy\n",
    "    energy_2008_volatility_array[index] = np.sqrt(np.dot(weights.T, np.dot(enerygy_returns2008.cov()*252, weights)))\n",
    "\n",
    "  #sharpe ratio\n",
    "    energy_2008_sharpe_array[index] = energy_2008_returns_array[index]/energy_2008_volatility_array[index]"
   ]
  },
  {
   "cell_type": "code",
   "execution_count": 23,
   "metadata": {},
   "outputs": [
    {
     "data": {
      "text/plain": [
       "1.7697987406084705"
      ]
     },
     "execution_count": 23,
     "metadata": {},
     "output_type": "execute_result"
    }
   ],
   "source": [
    "#find highest sharpe ratio\n",
    "energy_2008_sharpe_array.max()"
   ]
  },
  {
   "cell_type": "code",
   "execution_count": 24,
   "metadata": {},
   "outputs": [
    {
     "data": {
      "text/plain": [
       "62505"
      ]
     },
     "execution_count": 24,
     "metadata": {},
     "output_type": "execute_result"
    }
   ],
   "source": [
    "#find shape weights by index\n",
    "energy_2008_index_max_shape = energy_2008_sharpe_array.argmax()\n",
    "energy_2008_index_max_shape"
   ]
  },
  {
   "cell_type": "code",
   "execution_count": 25,
   "metadata": {},
   "outputs": [
    {
     "data": {
      "text/plain": [
       "array([0.02742364, 0.03016303, 0.15417269, 0.74906268, 0.03917796])"
      ]
     },
     "execution_count": 25,
     "metadata": {},
     "output_type": "execute_result"
    }
   ],
   "source": [
    "#look at the weights from the index\n",
    "energy_2008_weights_array = energy_2008_all_weights[energy_2008_index_max_shape,:]\n",
    "energy_2008_weights_array"
   ]
  },
  {
   "cell_type": "code",
   "execution_count": 27,
   "metadata": {},
   "outputs": [],
   "source": [
    "energy_2008_weights_array = np.array([0.02742364, 0.03016303, 0.15417269, 0.74906268, 0.03917796])"
   ]
  },
  {
   "cell_type": "code",
   "execution_count": 26,
   "metadata": {},
   "outputs": [
    {
     "name": "stdout",
     "output_type": "stream",
     "text": [
      "Index(['XOM', 'BP', 'COP', 'CVX', 'TOT'], dtype='object')\n",
      "Expected returns\n",
      "5.178626717462284\n",
      "Expected volatility\n",
      "2.9261105224212285\n",
      "Shape ratio\n",
      "1.7697987406084705\n"
     ]
    }
   ],
   "source": [
    "#Name of stocks in portfolio\n",
    "print(energy_closingprices2008.columns)\n",
    "\n",
    "#expect returns\n",
    "print('Expected returns')\n",
    "energy_2008_exp_return = np.sum((enerygy_returns2008.mean()*energy_2008_weights_array)*252)\n",
    "print(energy_2008_exp_return)\n",
    "\n",
    "#expected STD/volatility\n",
    "print('Expected volatility')\n",
    "energy_2008_exp_volat = np.sqrt(np.dot(energy_2008_weights_array.T, np.dot(enerygy_returns2008.cov()*252, energy_2008_weights_array)))\n",
    "print(energy_2008_exp_volat)\n",
    "\n",
    "#Shape ratio\n",
    "print('Shape ratio')\n",
    "energy_2008_sharpe = energy_2008_exp_return/energy_2008_exp_volat\n",
    "print(energy_2008_sharpe)"
   ]
  },
  {
   "cell_type": "code",
   "execution_count": null,
   "metadata": {},
   "outputs": [],
   "source": []
  }
 ],
 "metadata": {
  "kernelspec": {
   "display_name": "Python 3",
   "language": "python",
   "name": "python3"
  },
  "language_info": {
   "codemirror_mode": {
    "name": "ipython",
    "version": 3
   },
   "file_extension": ".py",
   "mimetype": "text/x-python",
   "name": "python",
   "nbconvert_exporter": "python",
   "pygments_lexer": "ipython3",
   "version": "3.8.5"
  }
 },
 "nbformat": 4,
 "nbformat_minor": 4
}
