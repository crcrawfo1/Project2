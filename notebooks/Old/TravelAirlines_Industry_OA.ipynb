{
 "cells": [
  {
   "cell_type": "code",
   "execution_count": 1,
   "metadata": {},
   "outputs": [],
   "source": [
    "# import packages for alpaca, panadas and OS/dotenv to read .env file with api keys\n",
    "import os\n",
    "import pandas as pd\n",
    "import numpy as np\n",
    "import alpaca_trade_api as tradeapi\n",
    "# Load .env enviroment variables\n",
    "from dotenv import load_dotenv\n",
    "load_dotenv()\n",
    "import pathlib as Path"
   ]
  },
  {
   "cell_type": "code",
   "execution_count": 2,
   "metadata": {},
   "outputs": [],
   "source": [
    "#helpful maybe?\n",
    "from datetime import datetime, timedelta\n",
    "\n",
    "days = 90\n",
    "startdate = datetime.now() - timedelta(days=days)\n",
    "\n",
    "# for fixed dates\n",
    "start = pd.to_datetime('2002-01-01')\n",
    "end = pd.to_datetime('2020-01-01')"
   ]
  },
  {
   "cell_type": "code",
   "execution_count": 3,
   "metadata": {},
   "outputs": [],
   "source": [
    "# storing alpaca key and secret key in variables \n",
    "alpaca_api_key = os.getenv('ALPACA_API_KEY')\n",
    "alpaca_secret_key = os.getenv('ALPACA_SECRET_KEY')\n",
    "\n",
    "api = tradeapi.REST(alpaca_api_key,alpaca_secret_key,api_version='V2')"
   ]
  },
  {
   "cell_type": "code",
   "execution_count": 4,
   "metadata": {},
   "outputs": [],
   "source": [
    "# set time frame\n",
    "timeframe = '1D'\n",
    "\n",
    "# start and 'end' date for covid stock market \n",
    "\n",
    "\n",
    "start_date_covid = pd.Timestamp('2019-12-01',tz='America/New_York').isoformat()\n",
    "end_date_covid = pd.Timestamp('2020-11-20',tz='America/New_York').isoformat()\n",
    "\n",
    "# start and end date for 2008 recession \n",
    "start_date_2008 = pd.Timestamp('2007-07-01',tz='America/New_York').isoformat()\n",
    "end_date_2008 = pd.Timestamp('2009-07-01',tz='America/New_York').isoformat()\n",
    "\n",
    "# set tickers (per industry)\n",
    "tickers_travel_airline = ['EXPE','BKNG','DAL','AAP','LUV']\n",
    "# financeind_tickers\n",
    "# techind_tickers etc\n",
    "\n",
    "# get stock data from covid\n",
    "tra_air_covid_ticker = api.get_barset(tickers_travel_airline,timeframe,start=start_date_covid,end = end_date_covid).df\n",
    "\n",
    "# get stock data from 2008 recession\n",
    "tra_air_ticker2008 = api.get_barset(tickers_travel_airline,timeframe,start=start_date_2008,end = end_date_2008).df"
   ]
  },
  {
   "cell_type": "code",
   "execution_count": 5,
   "metadata": {},
   "outputs": [
    {
     "data": {
      "text/html": [
       "<div>\n",
       "<style scoped>\n",
       "    .dataframe tbody tr th:only-of-type {\n",
       "        vertical-align: middle;\n",
       "    }\n",
       "\n",
       "    .dataframe tbody tr th {\n",
       "        vertical-align: top;\n",
       "    }\n",
       "\n",
       "    .dataframe thead th {\n",
       "        text-align: right;\n",
       "    }\n",
       "</style>\n",
       "<table border=\"1\" class=\"dataframe\">\n",
       "  <thead>\n",
       "    <tr style=\"text-align: right;\">\n",
       "      <th></th>\n",
       "      <th>Adj Close</th>\n",
       "    </tr>\n",
       "    <tr>\n",
       "      <th>Date</th>\n",
       "      <th></th>\n",
       "    </tr>\n",
       "  </thead>\n",
       "  <tbody>\n",
       "    <tr>\n",
       "      <th>2019-12-02</th>\n",
       "      <td>3113.870117</td>\n",
       "    </tr>\n",
       "    <tr>\n",
       "      <th>2019-12-03</th>\n",
       "      <td>3093.199951</td>\n",
       "    </tr>\n",
       "    <tr>\n",
       "      <th>2019-12-04</th>\n",
       "      <td>3112.760010</td>\n",
       "    </tr>\n",
       "    <tr>\n",
       "      <th>2019-12-05</th>\n",
       "      <td>3117.429932</td>\n",
       "    </tr>\n",
       "    <tr>\n",
       "      <th>2019-12-06</th>\n",
       "      <td>3145.909912</td>\n",
       "    </tr>\n",
       "  </tbody>\n",
       "</table>\n",
       "</div>"
      ],
      "text/plain": [
       "              Adj Close\n",
       "Date                   \n",
       "2019-12-02  3113.870117\n",
       "2019-12-03  3093.199951\n",
       "2019-12-04  3112.760010\n",
       "2019-12-05  3117.429932\n",
       "2019-12-06  3145.909912"
      ]
     },
     "execution_count": 5,
     "metadata": {},
     "output_type": "execute_result"
    }
   ],
   "source": [
    "\n",
    "covid_sp500_df = pd.read_csv(\"Covid_SP500_data.csv\", index_col=\"Date\", parse_dates=True, infer_datetime_format=True)\n",
    "\n",
    "\n",
    "covid_sp500_df = covid_sp500_df[['Adj Close']]\n",
    "covid_sp500_df.head()\n"
   ]
  },
  {
   "cell_type": "code",
   "execution_count": 6,
   "metadata": {},
   "outputs": [
    {
     "data": {
      "text/html": [
       "<div>\n",
       "<style scoped>\n",
       "    .dataframe tbody tr th:only-of-type {\n",
       "        vertical-align: middle;\n",
       "    }\n",
       "\n",
       "    .dataframe tbody tr th {\n",
       "        vertical-align: top;\n",
       "    }\n",
       "\n",
       "    .dataframe thead th {\n",
       "        text-align: right;\n",
       "    }\n",
       "</style>\n",
       "<table border=\"1\" class=\"dataframe\">\n",
       "  <thead>\n",
       "    <tr style=\"text-align: right;\">\n",
       "      <th></th>\n",
       "      <th>Adj Close</th>\n",
       "    </tr>\n",
       "    <tr>\n",
       "      <th>Date</th>\n",
       "      <th></th>\n",
       "    </tr>\n",
       "  </thead>\n",
       "  <tbody>\n",
       "    <tr>\n",
       "      <th>2007-07-02</th>\n",
       "      <td>1519.430054</td>\n",
       "    </tr>\n",
       "    <tr>\n",
       "      <th>2007-07-03</th>\n",
       "      <td>1524.869995</td>\n",
       "    </tr>\n",
       "    <tr>\n",
       "      <th>2007-07-05</th>\n",
       "      <td>1525.400024</td>\n",
       "    </tr>\n",
       "    <tr>\n",
       "      <th>2007-07-06</th>\n",
       "      <td>1530.439941</td>\n",
       "    </tr>\n",
       "    <tr>\n",
       "      <th>2007-07-09</th>\n",
       "      <td>1531.849976</td>\n",
       "    </tr>\n",
       "  </tbody>\n",
       "</table>\n",
       "</div>"
      ],
      "text/plain": [
       "              Adj Close\n",
       "Date                   \n",
       "2007-07-02  1519.430054\n",
       "2007-07-03  1524.869995\n",
       "2007-07-05  1525.400024\n",
       "2007-07-06  1530.439941\n",
       "2007-07-09  1531.849976"
      ]
     },
     "execution_count": 6,
     "metadata": {},
     "output_type": "execute_result"
    }
   ],
   "source": [
    "\n",
    "sp500_2008_df = pd.read_csv(\"S&P_Jul_2007_2009.csv\", index_col=\"Date\", parse_dates=True, infer_datetime_format=True)\n",
    "\n",
    "\n",
    "sp500_2008_df = sp500_2008_df[['Adj Close']]\n",
    "sp500_2008_df.head()"
   ]
  },
  {
   "cell_type": "code",
   "execution_count": 24,
   "metadata": {},
   "outputs": [],
   "source": [
    "#ticker2008=ticker2008.reset_index()\n"
   ]
  },
  {
   "cell_type": "code",
   "execution_count": 8,
   "metadata": {},
   "outputs": [
    {
     "data": {
      "text/html": [
       "<div>\n",
       "<style scoped>\n",
       "    .dataframe tbody tr th:only-of-type {\n",
       "        vertical-align: middle;\n",
       "    }\n",
       "\n",
       "    .dataframe tbody tr th {\n",
       "        vertical-align: top;\n",
       "    }\n",
       "\n",
       "    .dataframe thead tr th {\n",
       "        text-align: left;\n",
       "    }\n",
       "</style>\n",
       "<table border=\"1\" class=\"dataframe\">\n",
       "  <thead>\n",
       "    <tr>\n",
       "      <th></th>\n",
       "      <th colspan=\"5\" halign=\"left\">AAP</th>\n",
       "      <th colspan=\"5\" halign=\"left\">BKNG</th>\n",
       "      <th>...</th>\n",
       "      <th colspan=\"5\" halign=\"left\">EXPE</th>\n",
       "      <th colspan=\"5\" halign=\"left\">LUV</th>\n",
       "    </tr>\n",
       "    <tr>\n",
       "      <th></th>\n",
       "      <th>open</th>\n",
       "      <th>high</th>\n",
       "      <th>low</th>\n",
       "      <th>close</th>\n",
       "      <th>volume</th>\n",
       "      <th>open</th>\n",
       "      <th>high</th>\n",
       "      <th>low</th>\n",
       "      <th>close</th>\n",
       "      <th>volume</th>\n",
       "      <th>...</th>\n",
       "      <th>open</th>\n",
       "      <th>high</th>\n",
       "      <th>low</th>\n",
       "      <th>close</th>\n",
       "      <th>volume</th>\n",
       "      <th>open</th>\n",
       "      <th>high</th>\n",
       "      <th>low</th>\n",
       "      <th>close</th>\n",
       "      <th>volume</th>\n",
       "    </tr>\n",
       "  </thead>\n",
       "  <tbody>\n",
       "    <tr>\n",
       "      <th>2020-11-16 00:00:00-05:00</th>\n",
       "      <td>155.50</td>\n",
       "      <td>156.06</td>\n",
       "      <td>150.3200</td>\n",
       "      <td>151.06</td>\n",
       "      <td>2025846</td>\n",
       "      <td>2117.87</td>\n",
       "      <td>2121.987</td>\n",
       "      <td>2060.78</td>\n",
       "      <td>2080.9312</td>\n",
       "      <td>523837</td>\n",
       "      <td>...</td>\n",
       "      <td>128.77</td>\n",
       "      <td>128.98</td>\n",
       "      <td>122.32</td>\n",
       "      <td>123.68</td>\n",
       "      <td>2886547</td>\n",
       "      <td>46.06</td>\n",
       "      <td>46.20</td>\n",
       "      <td>44.540</td>\n",
       "      <td>45.59</td>\n",
       "      <td>26155085</td>\n",
       "    </tr>\n",
       "    <tr>\n",
       "      <th>2020-11-17 00:00:00-05:00</th>\n",
       "      <td>149.92</td>\n",
       "      <td>150.70</td>\n",
       "      <td>147.6500</td>\n",
       "      <td>149.31</td>\n",
       "      <td>1643720</td>\n",
       "      <td>2080.00</td>\n",
       "      <td>2091.520</td>\n",
       "      <td>2057.96</td>\n",
       "      <td>2082.3700</td>\n",
       "      <td>241166</td>\n",
       "      <td>...</td>\n",
       "      <td>122.58</td>\n",
       "      <td>123.78</td>\n",
       "      <td>121.13</td>\n",
       "      <td>123.04</td>\n",
       "      <td>1838484</td>\n",
       "      <td>44.86</td>\n",
       "      <td>46.24</td>\n",
       "      <td>44.430</td>\n",
       "      <td>45.65</td>\n",
       "      <td>15798296</td>\n",
       "    </tr>\n",
       "    <tr>\n",
       "      <th>2020-11-18 00:00:00-05:00</th>\n",
       "      <td>148.93</td>\n",
       "      <td>151.83</td>\n",
       "      <td>147.9800</td>\n",
       "      <td>148.11</td>\n",
       "      <td>1583893</td>\n",
       "      <td>2076.00</td>\n",
       "      <td>2103.510</td>\n",
       "      <td>2044.02</td>\n",
       "      <td>2044.5900</td>\n",
       "      <td>288553</td>\n",
       "      <td>...</td>\n",
       "      <td>123.10</td>\n",
       "      <td>126.08</td>\n",
       "      <td>122.01</td>\n",
       "      <td>122.40</td>\n",
       "      <td>1837959</td>\n",
       "      <td>46.82</td>\n",
       "      <td>47.28</td>\n",
       "      <td>45.600</td>\n",
       "      <td>45.60</td>\n",
       "      <td>21577612</td>\n",
       "    </tr>\n",
       "    <tr>\n",
       "      <th>2020-11-19 00:00:00-05:00</th>\n",
       "      <td>147.54</td>\n",
       "      <td>147.54</td>\n",
       "      <td>144.0718</td>\n",
       "      <td>146.08</td>\n",
       "      <td>3001601</td>\n",
       "      <td>2022.84</td>\n",
       "      <td>2054.975</td>\n",
       "      <td>2000.00</td>\n",
       "      <td>2008.4700</td>\n",
       "      <td>304049</td>\n",
       "      <td>...</td>\n",
       "      <td>121.61</td>\n",
       "      <td>124.16</td>\n",
       "      <td>120.03</td>\n",
       "      <td>123.97</td>\n",
       "      <td>1931119</td>\n",
       "      <td>45.53</td>\n",
       "      <td>46.46</td>\n",
       "      <td>45.410</td>\n",
       "      <td>46.07</td>\n",
       "      <td>12527225</td>\n",
       "    </tr>\n",
       "    <tr>\n",
       "      <th>2020-11-20 00:00:00-05:00</th>\n",
       "      <td>145.91</td>\n",
       "      <td>147.09</td>\n",
       "      <td>143.8801</td>\n",
       "      <td>144.31</td>\n",
       "      <td>2527183</td>\n",
       "      <td>2017.60</td>\n",
       "      <td>2036.520</td>\n",
       "      <td>1987.84</td>\n",
       "      <td>1990.3000</td>\n",
       "      <td>249860</td>\n",
       "      <td>...</td>\n",
       "      <td>123.45</td>\n",
       "      <td>123.66</td>\n",
       "      <td>119.77</td>\n",
       "      <td>119.83</td>\n",
       "      <td>2803234</td>\n",
       "      <td>46.05</td>\n",
       "      <td>46.05</td>\n",
       "      <td>45.035</td>\n",
       "      <td>45.55</td>\n",
       "      <td>12240889</td>\n",
       "    </tr>\n",
       "  </tbody>\n",
       "</table>\n",
       "<p>5 rows × 25 columns</p>\n",
       "</div>"
      ],
      "text/plain": [
       "                              AAP                                        BKNG  \\\n",
       "                             open    high       low   close   volume     open   \n",
       "2020-11-16 00:00:00-05:00  155.50  156.06  150.3200  151.06  2025846  2117.87   \n",
       "2020-11-17 00:00:00-05:00  149.92  150.70  147.6500  149.31  1643720  2080.00   \n",
       "2020-11-18 00:00:00-05:00  148.93  151.83  147.9800  148.11  1583893  2076.00   \n",
       "2020-11-19 00:00:00-05:00  147.54  147.54  144.0718  146.08  3001601  2022.84   \n",
       "2020-11-20 00:00:00-05:00  145.91  147.09  143.8801  144.31  2527183  2017.60   \n",
       "\n",
       "                                                                 ...    EXPE  \\\n",
       "                               high      low      close  volume  ...    open   \n",
       "2020-11-16 00:00:00-05:00  2121.987  2060.78  2080.9312  523837  ...  128.77   \n",
       "2020-11-17 00:00:00-05:00  2091.520  2057.96  2082.3700  241166  ...  122.58   \n",
       "2020-11-18 00:00:00-05:00  2103.510  2044.02  2044.5900  288553  ...  123.10   \n",
       "2020-11-19 00:00:00-05:00  2054.975  2000.00  2008.4700  304049  ...  121.61   \n",
       "2020-11-20 00:00:00-05:00  2036.520  1987.84  1990.3000  249860  ...  123.45   \n",
       "\n",
       "                                                              LUV         \\\n",
       "                             high     low   close   volume   open   high   \n",
       "2020-11-16 00:00:00-05:00  128.98  122.32  123.68  2886547  46.06  46.20   \n",
       "2020-11-17 00:00:00-05:00  123.78  121.13  123.04  1838484  44.86  46.24   \n",
       "2020-11-18 00:00:00-05:00  126.08  122.01  122.40  1837959  46.82  47.28   \n",
       "2020-11-19 00:00:00-05:00  124.16  120.03  123.97  1931119  45.53  46.46   \n",
       "2020-11-20 00:00:00-05:00  123.66  119.77  119.83  2803234  46.05  46.05   \n",
       "\n",
       "                                                    \n",
       "                              low  close    volume  \n",
       "2020-11-16 00:00:00-05:00  44.540  45.59  26155085  \n",
       "2020-11-17 00:00:00-05:00  44.430  45.65  15798296  \n",
       "2020-11-18 00:00:00-05:00  45.600  45.60  21577612  \n",
       "2020-11-19 00:00:00-05:00  45.410  46.07  12527225  \n",
       "2020-11-20 00:00:00-05:00  45.035  45.55  12240889  \n",
       "\n",
       "[5 rows x 25 columns]"
      ]
     },
     "execution_count": 8,
     "metadata": {},
     "output_type": "execute_result"
    }
   ],
   "source": [
    "tra_air_covid_ticker.tail()"
   ]
  },
  {
   "cell_type": "code",
   "execution_count": 7,
   "metadata": {},
   "outputs": [
    {
     "data": {
      "text/html": [
       "<div>\n",
       "<style scoped>\n",
       "    .dataframe tbody tr th:only-of-type {\n",
       "        vertical-align: middle;\n",
       "    }\n",
       "\n",
       "    .dataframe tbody tr th {\n",
       "        vertical-align: top;\n",
       "    }\n",
       "\n",
       "    .dataframe thead th {\n",
       "        text-align: right;\n",
       "    }\n",
       "</style>\n",
       "<table border=\"1\" class=\"dataframe\">\n",
       "  <thead>\n",
       "    <tr style=\"text-align: right;\">\n",
       "      <th></th>\n",
       "      <th>EXPE</th>\n",
       "      <th>BKNG</th>\n",
       "      <th>DAL</th>\n",
       "      <th>AAP</th>\n",
       "      <th>LUV</th>\n",
       "    </tr>\n",
       "  </thead>\n",
       "  <tbody>\n",
       "    <tr>\n",
       "      <th>2019-12-02</th>\n",
       "      <td>100.74</td>\n",
       "      <td>1884.45</td>\n",
       "      <td>56.75</td>\n",
       "      <td>156.55</td>\n",
       "      <td>56.71</td>\n",
       "    </tr>\n",
       "    <tr>\n",
       "      <th>2019-12-03</th>\n",
       "      <td>99.39</td>\n",
       "      <td>1877.44</td>\n",
       "      <td>55.61</td>\n",
       "      <td>152.62</td>\n",
       "      <td>55.93</td>\n",
       "    </tr>\n",
       "    <tr>\n",
       "      <th>2019-12-04</th>\n",
       "      <td>105.56</td>\n",
       "      <td>1923.00</td>\n",
       "      <td>56.06</td>\n",
       "      <td>152.33</td>\n",
       "      <td>55.79</td>\n",
       "    </tr>\n",
       "    <tr>\n",
       "      <th>2019-12-05</th>\n",
       "      <td>105.70</td>\n",
       "      <td>1904.32</td>\n",
       "      <td>55.89</td>\n",
       "      <td>152.30</td>\n",
       "      <td>55.53</td>\n",
       "    </tr>\n",
       "    <tr>\n",
       "      <th>2019-12-06</th>\n",
       "      <td>107.59</td>\n",
       "      <td>1931.20</td>\n",
       "      <td>56.14</td>\n",
       "      <td>154.60</td>\n",
       "      <td>55.94</td>\n",
       "    </tr>\n",
       "  </tbody>\n",
       "</table>\n",
       "</div>"
      ],
      "text/plain": [
       "              EXPE     BKNG    DAL     AAP    LUV\n",
       "2019-12-02  100.74  1884.45  56.75  156.55  56.71\n",
       "2019-12-03   99.39  1877.44  55.61  152.62  55.93\n",
       "2019-12-04  105.56  1923.00  56.06  152.33  55.79\n",
       "2019-12-05  105.70  1904.32  55.89  152.30  55.53\n",
       "2019-12-06  107.59  1931.20  56.14  154.60  55.94"
      ]
     },
     "execution_count": 7,
     "metadata": {},
     "output_type": "execute_result"
    }
   ],
   "source": [
    "# create new covid and 2008 dataframe to store ckosing prices of each stock\n",
    "\n",
    "covid_travel_closingprices = pd.DataFrame()\n",
    "\n",
    "# get closing prices for all tickers\n",
    "for ticker in tickers_travel_airline:\n",
    "    covid_travel_closingprices[ticker]=tra_air_covid_ticker[ticker]['close']\n",
    "    \n",
    "# drop time component on index\n",
    "covid_travel_closingprices.index = covid_travel_closingprices.index.date\n",
    "    \n",
    "covid_travel_closingprices.head()"
   ]
  },
  {
   "cell_type": "code",
   "execution_count": 9,
   "metadata": {},
   "outputs": [
    {
     "data": {
      "text/html": [
       "<div>\n",
       "<style scoped>\n",
       "    .dataframe tbody tr th:only-of-type {\n",
       "        vertical-align: middle;\n",
       "    }\n",
       "\n",
       "    .dataframe tbody tr th {\n",
       "        vertical-align: top;\n",
       "    }\n",
       "\n",
       "    .dataframe thead th {\n",
       "        text-align: right;\n",
       "    }\n",
       "</style>\n",
       "<table border=\"1\" class=\"dataframe\">\n",
       "  <thead>\n",
       "    <tr style=\"text-align: right;\">\n",
       "      <th></th>\n",
       "      <th>EXPE</th>\n",
       "      <th>BKNG</th>\n",
       "      <th>DAL</th>\n",
       "      <th>AAP</th>\n",
       "      <th>LUV</th>\n",
       "    </tr>\n",
       "  </thead>\n",
       "  <tbody>\n",
       "    <tr>\n",
       "      <th>2008-01-02</th>\n",
       "      <td>61.10</td>\n",
       "      <td>115.21</td>\n",
       "      <td>13.800</td>\n",
       "      <td>37.58</td>\n",
       "      <td>11.79</td>\n",
       "    </tr>\n",
       "    <tr>\n",
       "      <th>2008-01-03</th>\n",
       "      <td>61.10</td>\n",
       "      <td>111.40</td>\n",
       "      <td>13.660</td>\n",
       "      <td>37.91</td>\n",
       "      <td>11.61</td>\n",
       "    </tr>\n",
       "    <tr>\n",
       "      <th>2008-01-04</th>\n",
       "      <td>59.12</td>\n",
       "      <td>107.54</td>\n",
       "      <td>12.444</td>\n",
       "      <td>35.69</td>\n",
       "      <td>11.42</td>\n",
       "    </tr>\n",
       "    <tr>\n",
       "      <th>2008-01-07</th>\n",
       "      <td>58.28</td>\n",
       "      <td>105.18</td>\n",
       "      <td>13.380</td>\n",
       "      <td>37.25</td>\n",
       "      <td>11.88</td>\n",
       "    </tr>\n",
       "    <tr>\n",
       "      <th>2008-01-08</th>\n",
       "      <td>57.62</td>\n",
       "      <td>102.10</td>\n",
       "      <td>11.770</td>\n",
       "      <td>35.32</td>\n",
       "      <td>11.28</td>\n",
       "    </tr>\n",
       "  </tbody>\n",
       "</table>\n",
       "</div>"
      ],
      "text/plain": [
       "             EXPE    BKNG     DAL    AAP    LUV\n",
       "2008-01-02  61.10  115.21  13.800  37.58  11.79\n",
       "2008-01-03  61.10  111.40  13.660  37.91  11.61\n",
       "2008-01-04  59.12  107.54  12.444  35.69  11.42\n",
       "2008-01-07  58.28  105.18  13.380  37.25  11.88\n",
       "2008-01-08  57.62  102.10  11.770  35.32  11.28"
      ]
     },
     "execution_count": 9,
     "metadata": {},
     "output_type": "execute_result"
    }
   ],
   "source": [
    "travel_closingprices2008 = pd.DataFrame()\n",
    "\n",
    "# get closing prices for all tickers\n",
    "for ticker in tickers_travel_airline:\n",
    "    travel_closingprices2008[ticker]=tra_air_ticker2008[ticker]['close']\n",
    "    \n",
    "# drop time component on index\n",
    "travel_closingprices2008.index = travel_closingprices2008.index.date\n",
    "    \n",
    "travel_closingprices2008.head()"
   ]
  },
  {
   "cell_type": "code",
   "execution_count": 22,
   "metadata": {},
   "outputs": [],
   "source": [
    "# calculate daily returns for each timeframe\n",
    "travel_covid_dr = covid_travel_closingprices.pct_change().dropna()\n",
    "travel_returns2008 = travel_closingprices2008.pct_change().dropna()"
   ]
  },
  {
   "cell_type": "code",
   "execution_count": 14,
   "metadata": {},
   "outputs": [
    {
     "name": "stdout",
     "output_type": "stream",
     "text": [
      "Index(['EXPE', 'BKNG', 'DAL', 'AAP', 'LUV'], dtype='object')\n",
      "Weights\n",
      "[0.2 0.2 0.2 0.2 0.2]\n",
      "Expected returns\n",
      "0.10434643694427442\n",
      "Expected volatility\n",
      "0.5472121330343592\n",
      "Shape ratio\n",
      "0.1906873598830137\n"
     ]
    }
   ],
   "source": [
    "#Name of stocks in portfolio\n",
    "print(covid_travel_closingprices.columns)\n",
    "\n",
    "ta_covid_weights = np.full((1, len(covid_travel_closingprices.columns)), 1/len(covid_travel_closingprices.columns))[0]\n",
    "print(\"Weights\")\n",
    "print(ta_covid_weights)\n",
    "\n",
    "#expect returns\n",
    "print('Expected returns')\n",
    "ta_covid_exp_return = np.sum((travel_covid_dr.mean()*ta_covid_weights)*252)\n",
    "print(ta_covid_exp_return)\n",
    "\n",
    "#expected STD/volatility\n",
    "print('Expected volatility')\n",
    "ta_covid_exp_volat = np.sqrt(np.dot(ta_covid_weights.T, np.dot(travel_covid_dr.cov()*252, ta_covid_weights)))\n",
    "print(ta_covid_exp_volat)\n",
    "\n",
    "#Shape ratio\n",
    "print('Shape ratio')\n",
    "ta_covid_sharpe = ta_covid_exp_return/ta_covid_exp_volat\n",
    "print(ta_covid_sharpe)"
   ]
  },
  {
   "cell_type": "code",
   "execution_count": 28,
   "metadata": {},
   "outputs": [],
   "source": [
    "# running 100k simulations on portfolio\n",
    "number_ports = 100000\n",
    "ta_all_weights = np.zeros((number_ports, len(covid_travel_closingprices.columns)))\n",
    "ta_returns_array = np.zeros(number_ports)\n",
    "ta_volatility_array = np.zeros(number_ports)\n",
    "ta_sharpe_array = np.zeros(number_ports)\n",
    "\n",
    "np.random.seed(4)\n",
    "\n",
    "for index in range(number_ports):\n",
    "    #weights\n",
    "    ta_covid_weights = np.array(np.random.random(5))\n",
    "    ta_covid_weights = ta_covid_weights/np.sum(ta_covid_weights)\n",
    "\n",
    "    #save weights\n",
    "    ta_all_weights[index,:] = ta_covid_weights\n",
    "\n",
    "    #expected returns\n",
    "    ta_returns_array[index] = np.sum((travel_covid_dr.mean()*ta_covid_weights)*252)\n",
    "\n",
    "    #expected volatiltiy\n",
    "    ta_volatility_array[index] = np.sqrt(np.dot(ta_covid_weights.T, np.dot(travel_covid_dr.cov()*252, ta_covid_weights)))\n",
    "\n",
    "    #sharpe ratio\n",
    "    ta_sharpe_array[index] = ta_returns_array[index]/ta_volatility_array[index]"
   ]
  },
  {
   "cell_type": "code",
   "execution_count": 29,
   "metadata": {},
   "outputs": [
    {
     "data": {
      "text/plain": [
       "0.5630037112949381"
      ]
     },
     "execution_count": 29,
     "metadata": {},
     "output_type": "execute_result"
    }
   ],
   "source": [
    "ta_sharpe_array.max()"
   ]
  },
  {
   "cell_type": "code",
   "execution_count": 30,
   "metadata": {},
   "outputs": [
    {
     "data": {
      "text/plain": [
       "79869"
      ]
     },
     "execution_count": 30,
     "metadata": {},
     "output_type": "execute_result"
    }
   ],
   "source": [
    "ta_index_max_shape = ta_sharpe_array.argmax()\n",
    "ta_index_max_shape"
   ]
  },
  {
   "cell_type": "code",
   "execution_count": 36,
   "metadata": {},
   "outputs": [
    {
     "data": {
      "text/plain": [
       "array([0.61837201, 0.18266603, 0.02917101, 0.16262027, 0.00717068])"
      ]
     },
     "execution_count": 36,
     "metadata": {},
     "output_type": "execute_result"
    }
   ],
   "source": [
    "ta_weights_array = ta_all_weights[index_max_shape,:]\n",
    "ta_weights_array"
   ]
  },
  {
   "cell_type": "code",
   "execution_count": 23,
   "metadata": {},
   "outputs": [
    {
     "name": "stdout",
     "output_type": "stream",
     "text": [
      "Index(['EXPE', 'BKNG', 'DAL', 'AAP', 'LUV'], dtype='object')\n",
      "Weights\n",
      "[0.2 0.2 0.2 0.2 0.2]\n",
      "Expected returns\n",
      "0.0710814285487679\n",
      "Expected volatility\n",
      "0.5521139726131628\n",
      "Shape ratio\n",
      "0.12874412182024403\n"
     ]
    }
   ],
   "source": [
    "#Name of stocks in portfolio\n",
    "print(travel_closingprices2008.columns)\n",
    "\n",
    "ta_2008_weights = np.full((1, len(travel_closingprices2008.columns)), 1/len(travel_closingprices2008.columns))[0]\n",
    "print(\"Weights\")\n",
    "print(ta_2008_weights)\n",
    "\n",
    "#expect returns\n",
    "print('Expected returns')\n",
    "ta_2008_exp_return = np.sum((travel_returns2008.mean()*ta_2008_weights)*252)\n",
    "print(ta_2008_exp_return)\n",
    "\n",
    "#expected STD/volatility\n",
    "print('Expected volatility')\n",
    "ta_2008_exp_volat = np.sqrt(np.dot(ta_2008_weights.T, np.dot(travel_returns2008.cov()*252, ta_2008_weights)))\n",
    "print(ta_2008_exp_volat)\n",
    "\n",
    "#Shape ratio\n",
    "print('Shape ratio')\n",
    "ta_2008_sharpe = ta_2008_exp_return/ta_2008_exp_volat\n",
    "print(ta_2008_sharpe)"
   ]
  },
  {
   "cell_type": "code",
   "execution_count": 32,
   "metadata": {},
   "outputs": [],
   "source": [
    "# running 10k simulations on portfolio\n",
    "number_ports = 100000\n",
    "ta_all_weights_2008 = np.zeros((number_ports, len(travel_closingprices2008.columns)))\n",
    "ta_returns_array_2008 = np.zeros(number_ports)\n",
    "ta_volatility_array_2008 = np.zeros(number_ports)\n",
    "ta_sharpe_array_2008 = np.zeros(number_ports)\n",
    "\n",
    "np.random.seed(4)\n",
    "\n",
    "for index in range(number_ports):\n",
    "    #weights\n",
    "    ta_2008_weights = np.array(np.random.random(5))\n",
    "    ta_2008_weights = ta_2008_weights/np.sum(ta_2008_weights)\n",
    "\n",
    "    #save weights\n",
    "    ta_all_weights_2008[index,:] = ta_2008_weights\n",
    "\n",
    "    #expected returns\n",
    "    ta_returns_array_2008[index] = np.sum((travel_returns2008.mean()*ta_2008_weights)*252)\n",
    "\n",
    "    #expected volatiltiy\n",
    "    ta_volatility_array_2008[index] = np.sqrt(np.dot(ta_2008_weights.T, np.dot(travel_returns2008.cov()*252, ta_2008_weights)))\n",
    "\n",
    "    #sharpe ratio\n",
    "    ta_sharpe_array_2008[index] = ta_returns_array_2008[index]/ta_volatility_array_2008[index]"
   ]
  },
  {
   "cell_type": "code",
   "execution_count": 33,
   "metadata": {},
   "outputs": [
    {
     "data": {
      "text/plain": [
       "0.42531087446964183"
      ]
     },
     "execution_count": 33,
     "metadata": {},
     "output_type": "execute_result"
    }
   ],
   "source": [
    "ta_sharpe_array_2008.max()"
   ]
  },
  {
   "cell_type": "code",
   "execution_count": 34,
   "metadata": {},
   "outputs": [
    {
     "data": {
      "text/plain": [
       "80547"
      ]
     },
     "execution_count": 34,
     "metadata": {},
     "output_type": "execute_result"
    }
   ],
   "source": [
    "ta_index_max_2008_shape = ta_sharpe_array_2008.argmax()\n",
    "ta_index_max_2008_shape"
   ]
  },
  {
   "cell_type": "code",
   "execution_count": 35,
   "metadata": {},
   "outputs": [
    {
     "data": {
      "text/plain": [
       "array([0.00441766, 0.40000322, 0.07261973, 0.51761735, 0.00534204])"
      ]
     },
     "execution_count": 35,
     "metadata": {},
     "output_type": "execute_result"
    }
   ],
   "source": [
    "ta_weights_2008_array = ta_all_weights_2008[ta_index_max_2008_shape,:]\n",
    "ta_weights_2008_array"
   ]
  },
  {
   "cell_type": "code",
   "execution_count": null,
   "metadata": {},
   "outputs": [],
   "source": [
    "ta_weights_2008_array = np.array([0.00441766, 0.40000322, 0.07261973, 0.51761735, 0.00534204])\n",
    "ta_weights_2008_array"
   ]
  },
  {
   "cell_type": "code",
   "execution_count": null,
   "metadata": {},
   "outputs": [],
   "source": [
    "ta_weights_array = np.array([0.61837201, 0.18266603, 0.02917101, 0.16262027, 0.00717068])\n",
    "ta_weights_array"
   ]
  },
  {
   "cell_type": "code",
   "execution_count": 37,
   "metadata": {},
   "outputs": [
    {
     "name": "stdout",
     "output_type": "stream",
     "text": [
      "Index(['EXPE', 'BKNG', 'DAL', 'AAP', 'LUV'], dtype='object')\n",
      "Expected returns\n",
      "0.3048618629415235\n",
      "Expected volatility\n",
      "0.5953480238897848\n",
      "Shape ratio\n",
      "0.512073359964594\n"
     ]
    }
   ],
   "source": [
    "#Name of stocks in portfolio\n",
    "print(covid_travel_closingprices.columns)\n",
    "\n",
    "#expect returns\n",
    "print('Expected returns')\n",
    "ta_covid_exp_return = np.sum((travel_covid_dr.mean()*ta_weights_array)*252)\n",
    "print(ta_covid_exp_return)\n",
    "\n",
    "#expected STD/volatility\n",
    "print('Expected volatility')\n",
    "ta_covid_exp_volat = np.sqrt(np.dot(ta_weights_array.T, np.dot(travel_covid_dr.cov()*252, ta_weights_array)))\n",
    "print(ta_covid_exp_volat)\n",
    "\n",
    "#Shape ratio\n",
    "print('Shape ratio')\n",
    "ta_covid_sharpe = ta_covid_exp_return/ta_covid_exp_volat\n",
    "print(ta_covid_sharpe)"
   ]
  },
  {
   "cell_type": "code",
   "execution_count": 38,
   "metadata": {},
   "outputs": [
    {
     "name": "stdout",
     "output_type": "stream",
     "text": [
      "Index(['EXPE', 'BKNG', 'DAL', 'AAP', 'LUV'], dtype='object')\n",
      "Expected returns\n",
      "0.2108208168107489\n",
      "Expected volatility\n",
      "0.4956864013261834\n",
      "Shape ratio\n",
      "0.42531087446964183\n"
     ]
    }
   ],
   "source": [
    "#Name of stocks in portfolio\n",
    "print(travel_closingprices2008.columns)\n",
    "\n",
    "#expect returns\n",
    "print('Expected returns')\n",
    "ta_2008_exp_return = np.sum((travel_returns2008.mean()*ta_weights_2008_array)*252)\n",
    "print(ta_2008_exp_return)\n",
    "\n",
    "#expected STD/volatility\n",
    "print('Expected volatility')\n",
    "ta_2008_exp_volat = np.sqrt(np.dot(ta_weights_2008_array.T, np.dot(travel_returns2008.cov()*252, ta_weights_2008_array)))\n",
    "print(ta_2008_exp_volat)\n",
    "\n",
    "#Shape ratio\n",
    "print('Shape ratio')\n",
    "ta_2008_sharpe = ta_2008_exp_return/ta_2008_exp_volat\n",
    "print(ta_2008_sharpe)"
   ]
  },
  {
   "cell_type": "markdown",
   "metadata": {},
   "source": [
    "## volatility for 2008 & COVID\n",
    "* standard deviation\n",
    "* box & whisker plot?\n",
    "\n",
    "## Industries\n",
    "* Tech: AMD, AAPL, MSFT, GOOG, INTC\n",
    "* Entertainment: IMAX, DIS, NFLX, CNK, SNE\n",
    "* Fast Food/Restaurants: MCD, WEN, YUM, DPZ, CMG\n",
    "* Energy: XOM, BP, RDS, COP, CVX\n",
    "* Travel/Airlines: EXPE, BKNG, DAL, AAP, UAL"
   ]
  }
 ],
 "metadata": {
  "kernelspec": {
   "display_name": "Python [conda env:alpacaenv]",
   "language": "python",
   "name": "conda-env-alpacaenv-py"
  },
  "language_info": {
   "codemirror_mode": {
    "name": "ipython",
    "version": 3
   },
   "file_extension": ".py",
   "mimetype": "text/x-python",
   "name": "python",
   "nbconvert_exporter": "python",
   "pygments_lexer": "ipython3",
   "version": "3.7.7"
  }
 },
 "nbformat": 4,
 "nbformat_minor": 4
}
