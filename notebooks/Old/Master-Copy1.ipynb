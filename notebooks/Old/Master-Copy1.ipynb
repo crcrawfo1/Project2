{
 "cells": [
  {
   "cell_type": "code",
   "execution_count": 1,
   "metadata": {},
   "outputs": [],
   "source": [
    "# import packages for alpaca, panadas and OS/dotenv to read .env file with api keys\n",
    "import os\n",
    "import pandas as pd\n",
    "import numpy as np\n",
    "import alpaca_trade_api as tradeapi\n",
    "# Load .env enviroment variables\n",
    "from dotenv import load_dotenv\n",
    "load_dotenv()\n",
    "import pathlib as Path\n",
    "#!pip install pandas-datareader\n",
    "import pandas_datareader as pdr\n",
    "from datetime import datetime\n",
    "\n",
    "%matplotlib inline"
   ]
  },
  {
   "cell_type": "code",
   "execution_count": 2,
   "metadata": {},
   "outputs": [],
   "source": [
    "# FOR HENNA ONLY\n",
    "# import os\n",
    "# os.chdir('/Users/hennasingh/Jupyter-Workspace/PROJECT1/Project1/notebooks')"
   ]
  },
  {
   "cell_type": "code",
   "execution_count": 3,
   "metadata": {},
   "outputs": [],
   "source": [
    "# set time frame\n",
    "timeframe = '1D'\n",
    "\n",
    "# start and 'end' date for covid stock market \n",
    "\n",
    "\n",
    "start_date_covid = datetime(2017,11,1)\n",
    "end_date_covid = datetime(2019,11,1)\n",
    "\n",
    "# start and end date for 2008 recession \n",
    "start_date_2008 = datetime(2005,7,1)\n",
    "end_date_2008 = datetime(2007,7,1)\n",
    "\n",
    "# set entertainment tickers (per industry)\n",
    "ent_tickers = ['IMAX','DIS','NFLX','CMCSA','SNE']\n",
    "fast_food_tickers = ['MCD','WEN','YUM','DPZ','JACK']\n",
    "tech_tickers = ['AMZN', 'AAPL', 'MSFT', 'GOOG', 'INTC']\n",
    "tickers_travel_airline = ['EXPE','BKNG','AAL','AAP','LUV']\n",
    "energy_tickers = ['XOM','BP','COP','CVX', 'TOT']\n",
    "\n",
    "# get stock data from covid\n",
    "entertainment_tickers_covid = pdr.DataReader(ent_tickers,'yahoo',start_date_covid,end_date_covid)\n",
    "fastfood_tickers_covid = pdr.DataReader(fast_food_tickers,'yahoo',start_date_covid,end_date_covid)\n",
    "covid_tech_ticker = pdr.DataReader(tech_tickers,'yahoo',start_date_covid,end_date_covid)\n",
    "tra_air_covid_ticker = pdr.DataReader(tickers_travel_airline,'yahoo',start_date_covid,end_date_covid)\n",
    "energy_covid_ticker = pdr.DataReader(energy_tickers,'yahoo',start_date_covid,end_date_covid)\n",
    "sp500_covid_ticker = pdr.DataReader('^GSPC','yahoo',start_date_covid,end_date_covid)\n",
    "\n",
    "\n",
    "# get stock data from 2008 recession\n",
    "entertainment_tickers_2008 = pdr.DataReader(ent_tickers,'yahoo',start_date_2008,end_date_2008)\n",
    "fastfood_tickers_2008 = pdr.DataReader(fast_food_tickers,'yahoo',start_date_2008,end_date_2008)\n",
    "tech_ticker2008 = pdr.DataReader(tech_tickers,'yahoo',start_date_2008,end_date_2008)\n",
    "tra_air_ticker2008 = pdr.DataReader(tickers_travel_airline,'yahoo',start_date_2008,end_date_2008)\n",
    "energy_ticker2008 = pdr.DataReader(energy_tickers,'yahoo',start_date_2008,end_date_2008)\n",
    "sp500_2008_ticker = pdr.DataReader('^GSPC','yahoo',start_date_2008,end_date_2008)\n",
    "\n"
   ]
  },
  {
   "cell_type": "code",
   "execution_count": 4,
   "metadata": {},
   "outputs": [],
   "source": [
    "# create new covid and 2008 dataframe to store ckosing prices of each stock\n",
    "\n",
    "ent_closingprices_covid = pd.DataFrame()\n",
    "covid_closingprices_ff= pd.DataFrame()\n",
    "covid_tech_closingprices = pd.DataFrame()\n",
    "covid_travel_closingprices = pd.DataFrame()\n",
    "energy_covid_closingprices = pd.DataFrame()\n",
    "sp500_covid_closingprices = pd.DataFrame()\n",
    "\n",
    "# get closing prices for all tickers (entertainment)\n",
    "for ticker in ent_tickers:\n",
    "    ent_closingprices_covid[ticker]=entertainment_tickers_covid['Adj Close'][ticker]\n",
    "\n",
    "# get closing prices for all tickers (fast food)\n",
    "for ticker in fast_food_tickers:\n",
    "    covid_closingprices_ff[ticker]=fastfood_tickers_covid['Adj Close'][ticker]\n",
    "    \n",
    "# get closing prices for all tickers (tech)\n",
    "for ticker in tech_tickers:\n",
    "    covid_tech_closingprices[ticker]=covid_tech_ticker['Adj Close'][ticker]\n",
    "    \n",
    "# get closing prices for all tickers (travel)\n",
    "for ticker in tickers_travel_airline:\n",
    "    covid_travel_closingprices[ticker]=tra_air_covid_ticker['Adj Close'][ticker]\n",
    "\n",
    "# get closing prices for all tickers (Energy)\n",
    "for ticker in energy_tickers:\n",
    "    energy_covid_closingprices[ticker]=energy_covid_ticker['Adj Close'][ticker]\n",
    "    \n",
    "sp500_covid_closingprices = sp500_covid_ticker['Adj Close']\n",
    "\n",
    "# drop time component on index\n",
    "ent_closingprices_covid.index = ent_closingprices_covid.index.date\n",
    "covid_closingprices_ff.index = covid_closingprices_ff.index.date\n",
    "covid_tech_closingprices.index = covid_tech_closingprices.index.date\n",
    "covid_travel_closingprices.index = covid_travel_closingprices.index.date\n",
    "energy_covid_closingprices.index = energy_covid_closingprices.index.date\n",
    "sp500_covid_closingprices.index = sp500_covid_closingprices.index.date\n"
   ]
  },
  {
   "cell_type": "code",
   "execution_count": 5,
   "metadata": {},
   "outputs": [],
   "source": [
    "ent_closingprices2008 = pd.DataFrame()\n",
    "closingprices2008_ff = pd.DataFrame()\n",
    "tech_closingprices2008 = pd.DataFrame()\n",
    "travel_closingprices2008 = pd.DataFrame()\n",
    "energy_closingprices2008 = pd.DataFrame()\n",
    "\n",
    "# get closing prices for all tickers (entertainment)\n",
    "for ticker in ent_tickers:\n",
    "    ent_closingprices2008[ticker]=entertainment_tickers_2008['Adj Close'][ticker]\n",
    "\n",
    "# get closing prices for all tickers (fast food)\n",
    "for ticker in fast_food_tickers:\n",
    "    closingprices2008_ff[ticker]=fastfood_tickers_2008['Adj Close'][ticker]\n",
    "\n",
    "# get closing prices for all tickers (tech)\n",
    "for ticker in tech_tickers:\n",
    "    tech_closingprices2008[ticker]=tech_ticker2008['Adj Close'][ticker]\n",
    "    \n",
    "# get closing prices for all tickers (travel)\n",
    "for ticker in tickers_travel_airline:\n",
    "    travel_closingprices2008[ticker]=tra_air_ticker2008['Adj Close'][ticker]\n",
    "    \n",
    "# get closing prices for all tickers (energy)\n",
    "for ticker in energy_tickers:\n",
    "    energy_closingprices2008[ticker]=energy_ticker2008['Adj Close'][ticker]\n",
    "    \n",
    "sp500_2008_closingprices = sp500_2008_ticker['Adj Close']\n",
    "    \n",
    "# drop time component on index\n",
    "ent_closingprices2008.index = ent_closingprices2008.index.date\n",
    "closingprices2008_ff.index = closingprices2008_ff.index.date\n",
    "tech_closingprices2008.index = tech_closingprices2008.index.date\n",
    "travel_closingprices2008.index = travel_closingprices2008.index.date\n",
    "energy_closingprices2008.index = energy_closingprices2008.index.date\n",
    "sp500_2008_closingprices.index = sp500_2008_closingprices.index.date\n"
   ]
  },
  {
   "cell_type": "code",
   "execution_count": 27,
   "metadata": {},
   "outputs": [],
   "source": [
    "# calculate daily returns for each timeframe (entertainment)\n",
    "ent_covid_dr = ent_closingprices_covid.pct_change().dropna()\n",
    "ent_returns2008 = ent_closingprices2008.pct_change().dropna()\n",
    "\n",
    "# calculate daily returns for each timeframe (fast food)\n",
    "ff_covid_dr = covid_closingprices_ff.pct_change().dropna()\n",
    "ff_returns2008 = closingprices2008_ff.pct_change().dropna()\n",
    "\n",
    "# calculate daily returns for each timeframe (fast food)\n",
    "tech_covid_dr = covid_tech_closingprices.pct_change().dropna()\n",
    "tech_returns2008 = tech_closingprices2008.pct_change().dropna()\n",
    "\n",
    "# calculate daily returns for each timeframe (Travel)\n",
    "travel_covid_dr = covid_travel_closingprices.pct_change().dropna()\n",
    "travel_returns2008 = travel_closingprices2008.pct_change().dropna()\n",
    "\n",
    "# calculate daily returns for each timeframe (Energy)\n",
    "energy_covid_dr = energy_covid_closingprices.pct_change().dropna()\n",
    "enerygy_returns2008 = energy_closingprices2008.pct_change().dropna()\n",
    "\n",
    "# calc daily returns for SP500\n",
    "covid_sp_returns = sp500_covid_closingprices.pct_change().dropna()\n",
    "SP2008_returns = sp500_2008_closingprices.pct_change().dropna()"
   ]
  },
  {
   "cell_type": "code",
   "execution_count": 28,
   "metadata": {},
   "outputs": [],
   "source": [
    "# optimal weights for COVID by industry\n",
    "# CODE FOR ALL WEIGHT OPTIMIZATION IN INDIVIDUAL INDUSTRY NOTEBOOKS\n",
    "weights_array_covid_ent = np.array([1.99037306e-04, 7.48042464e-03, 4.68559570e-01, 2.29580098e-02,5.00802959e-01])\n",
    "ff_covid_weights_array = np.array([0.0081001 , 0.02144947, 0.00317154, 0.44037344, 0.52690545])\n",
    "tech_covid_weights_array = np.array([0.70613507, 0.00239445, 0.13786249, 0.14385094, 0.00975704])\n",
    "ta_weights_array = np.array([0.61837201, 0.18266603, 0.02917101, 0.16262027, 0.00717068])\n",
    "nrg_covid_weights_array = np.array([0.00387665, 0.01551683, 0.78027557, 0.14089321, 0.05943774])\n",
    "\n",
    "# optimal weights for 2008 by industry\n",
    "weights_array_2008_ent = np.array([0.29430474, 0.16388926, 0.53320127, 0.00709684, 0.00150789])\n",
    "ff_2008_weights_array = np.array([0.51671353, 0.00217503, 0.42314488, 0.04618614, 0.01178043])\n",
    "tech_2008_weights_array = np.array([0.86397001, 0.02692074, 0.06883576, 0.01831173, 0.02196176])\n",
    "ta_weights_2008_array = np.array([0.00441766, 0.40000322, 0.07261973, 0.51761735, 0.00534204])\n",
    "nrg_2008_weights_array = np.array([0.06440511, 0.00259053, 0.00214815, 0.53930083, 0.39155538])"
   ]
  },
  {
   "cell_type": "code",
   "execution_count": 29,
   "metadata": {},
   "outputs": [],
   "source": [
    "# creating weighted returns of portfolios\n",
    "ent_2008_weight_ret = ent_returns2008.dot(weights_array_2008_ent)\n",
    "ff_2008_weight_ret = ff_returns2008.dot(ff_2008_weights_array)\n",
    "tech_2008_weight_ret = tech_returns2008.dot(tech_2008_weights_array)\n",
    "trans_2008_weight_ret = travel_returns2008.dot(ta_weights_2008_array)\n",
    "nrg_2008_weight_ret = enerygy_returns2008.dot(nrg_2008_weights_array)\n",
    "\n",
    "#NOW DO COVID\n",
    "ent_covid_weight_ret = ent_covid_dr.dot(weights_array_covid_ent)\n",
    "ff_covid_weight_ret = ff_covid_dr.dot(ff_covid_weights_array)\n",
    "tech_covid_weight_ret = tech_covid_dr.dot(tech_covid_weights_array)\n",
    "trans_covid_weight_ret = travel_covid_dr.dot(ta_weights_array)\n",
    "nrg_covid_weight_ret = energy_covid_dr.dot(nrg_covid_weights_array)"
   ]
  },
  {
   "cell_type": "code",
   "execution_count": 30,
   "metadata": {},
   "outputs": [],
   "source": [
    "#create weighted returns dataframes\n",
    "#START WITH 2008\n",
    "comb_2008_df = pd.DataFrame([ent_2008_weight_ret,ff_2008_weight_ret,tech_2008_weight_ret,trans_2008_weight_ret,nrg_2008_weight_ret,SP2008_returns])\n",
    "comb_2008_df = comb_2008_df.transpose()\n",
    "comb_2008_df.columns = ['Entertainment', 'Fast_Food', 'Tech', 'Transportation', 'Energy', 'S&P_500']\n",
    "\n",
    "#NOW DO COVID\n",
    "comb_covid_df = pd.DataFrame([ent_covid_weight_ret,ff_covid_weight_ret,tech_covid_weight_ret,trans_covid_weight_ret,nrg_covid_weight_ret,covid_sp_returns])\n",
    "comb_covid_df = comb_covid_df.transpose()\n",
    "comb_covid_df.columns = ['Entertainment', 'Fast_Food', 'Tech', 'Transportation', 'Energy', 'S&P_500']"
   ]
  },
  {
   "cell_type": "code",
   "execution_count": 31,
   "metadata": {},
   "outputs": [
    {
     "name": "stdout",
     "output_type": "stream",
     "text": [
      "Index(['IMAX', 'DIS', 'NFLX', 'CMCSA', 'SNE'], dtype='object')\n",
      "Expected returns\n",
      "0.24185107864858246\n",
      "Expected volatility\n",
      "0.2829081522795821\n",
      "Shape ratio\n",
      "0.8548749009168698\n"
     ]
    }
   ],
   "source": [
    "# Expected returns, volatility and sharpe ratio of entertainment industry based on optimal weights\n",
    "\n",
    "# COVID - ENTERTAINMENT\n",
    "print(ent_closingprices_covid.columns)\n",
    "\n",
    "#expect returns\n",
    "print('Expected returns')\n",
    "ent_covid_exp_return = np.sum((ent_covid_dr.mean()*weights_array_covid_ent)*252)\n",
    "print(ent_covid_exp_return)\n",
    "\n",
    "#expected STD/volatility\n",
    "print('Expected volatility')\n",
    "ent_covid_exp_volat = np.sqrt(np.dot(weights_array_covid_ent.T, np.dot(ent_covid_dr.cov()*252, weights_array_covid_ent)))\n",
    "print(ent_covid_exp_volat)\n",
    "\n",
    "#Shape ratio\n",
    "print('Shape ratio')\n",
    "ent_covid_sharpe = ent_covid_exp_return/ent_covid_exp_volat\n",
    "print(ent_covid_sharpe)"
   ]
  },
  {
   "cell_type": "code",
   "execution_count": 11,
   "metadata": {},
   "outputs": [
    {
     "name": "stdout",
     "output_type": "stream",
     "text": [
      "Index(['XOM', 'BP', 'COP', 'CVX', 'TOT'], dtype='object')\n",
      "Expected returns\n",
      "0.05538739701373837\n",
      "Expected volatility\n",
      "0.3009077772966005\n",
      "Shape ratio\n",
      "0.1840676818370959\n"
     ]
    }
   ],
   "source": [
    "# Expected returns, volatility and sharpe ratio of entertainment industry based on optimal weights\n",
    "\n",
    "# 2008 - ENTERTAINMENT\n",
    "print(energy_covid_closingprices.columns)\n",
    "\n",
    "#expect returns\n",
    "print('Expected returns')\n",
    "ent_2008_exp_return = np.sum((ent_returns2008.mean()*weights_array_2008_ent)*252)\n",
    "print(ent_2008_exp_return)\n",
    "\n",
    "#expected STD/volatility\n",
    "print('Expected volatility')\n",
    "ent_2008_exp_volat = np.sqrt(np.dot(weights_array_2008_ent.T, np.dot(ent_returns2008.cov()*252, weights_array_2008_ent)))\n",
    "print(ent_2008_exp_volat)\n",
    "\n",
    "#Shape ratio\n",
    "print('Shape ratio')\n",
    "ent_2008_sharpe = ent_2008_exp_return/ent_2008_exp_volat\n",
    "print(ent_2008_sharpe)"
   ]
  },
  {
   "cell_type": "code",
   "execution_count": 12,
   "metadata": {},
   "outputs": [
    {
     "name": "stdout",
     "output_type": "stream",
     "text": [
      "Index(['MCD', 'WEN', 'YUM', 'DPZ', 'JACK'], dtype='object')\n",
      "Expected returns\n",
      "0.09323830086018912\n",
      "Expected volatility\n",
      "0.21837576869469308\n",
      "Shape ratio\n",
      "0.4269626681454012\n"
     ]
    }
   ],
   "source": [
    "# Expected returns, volatility and sharpe ratio of fast food industry based on optimal weights\n",
    "\n",
    "#COVID - FAST FOOD\n",
    "\n",
    "print(covid_closingprices_ff.columns)\n",
    "\n",
    "\n",
    "#expect returns\n",
    "print('Expected returns')\n",
    "ff_covid_exp_return = np.sum((ff_covid_dr.mean()*ff_covid_weights_array)*252)\n",
    "print(ff_covid_exp_return)\n",
    "\n",
    "#expected STD/volatility\n",
    "print('Expected volatility')\n",
    "ff_covid_exp_volat = np.sqrt(np.dot(ff_covid_weights_array.T, np.dot(ff_covid_dr.cov()*252, ff_covid_weights_array)))\n",
    "print(ff_covid_exp_volat)\n",
    "\n",
    "#Shape ratio\n",
    "print('Shape ratio')\n",
    "ff_covid_sharpe = ff_covid_exp_return/ff_covid_exp_volat\n",
    "print(ff_covid_sharpe)"
   ]
  },
  {
   "cell_type": "code",
   "execution_count": 13,
   "metadata": {},
   "outputs": [
    {
     "name": "stdout",
     "output_type": "stream",
     "text": [
      "Index(['MCD', 'WEN', 'YUM', 'DPZ', 'JACK'], dtype='object')\n",
      "Expected returns\n",
      "0.09323830086018912\n",
      "Expected volatility\n",
      "0.17563181426901248\n",
      "Shape ratio\n",
      "1.4720199663838929\n"
     ]
    }
   ],
   "source": [
    "# Expected returns, volatility and sharpe ratio of fast food industry based on optimal weights\n",
    "\n",
    "#2008 - FAST FOOD\n",
    "\n",
    "print(closingprices2008_ff.columns)\n",
    "\n",
    "\n",
    "#expect returns\n",
    "print('Expected returns')\n",
    "ff_2008_exp_return = np.sum((ff_returns2008.mean()*ff_2008_weights_array)*252)\n",
    "print(ff_covid_exp_return)\n",
    "\n",
    "#expected STD/volatility\n",
    "print('Expected volatility')\n",
    "ff_2008_exp_volat = np.sqrt(np.dot(ff_2008_weights_array.T, np.dot(ff_returns2008.cov()*252, ff_2008_weights_array)))\n",
    "print(ff_2008_exp_volat)\n",
    "\n",
    "#Shape ratio\n",
    "print('Shape ratio')\n",
    "ff_2008_sharpe = ff_2008_exp_return/ff_2008_exp_volat\n",
    "print(ff_2008_sharpe)"
   ]
  },
  {
   "cell_type": "code",
   "execution_count": 14,
   "metadata": {},
   "outputs": [
    {
     "name": "stdout",
     "output_type": "stream",
     "text": [
      "Tech Portfolio Analysis during COVID:\n",
      "Index(['AMZN', 'AAPL', 'MSFT', 'GOOG', 'INTC'], dtype='object')\n",
      "Weights\n",
      "[0.70613507 0.00239445 0.13786249 0.14385094 0.00975704]\n",
      "Expected returns\n",
      "0.270804255479033\n",
      "Expected volatility\n",
      "0.2707612853436203\n",
      "Sharpe ratio\n",
      "1.0001587011797426\n"
     ]
    }
   ],
   "source": [
    "# Expected returns, volatility and sharpe ratio of tech industry based on optimal weights\n",
    "\n",
    "#COVID - TECH\n",
    "print('Tech Portfolio Analysis during COVID:')\n",
    "print(covid_tech_closingprices.columns)\n",
    "\n",
    "print(\"Weights\")\n",
    "print(tech_covid_weights_array)\n",
    "\n",
    "#expect returns\n",
    "print('Expected returns')\n",
    "tech_covid_exp_return = np.sum((tech_covid_dr.mean()*tech_covid_weights_array)*252)\n",
    "print(tech_covid_exp_return)\n",
    "\n",
    "#expected STD/volatility\n",
    "print('Expected volatility')\n",
    "tech_covid_exp_volat = np.sqrt(np.dot(tech_covid_weights_array.T, np.dot(tech_covid_dr.cov()*252, tech_covid_weights_array)))\n",
    "print(tech_covid_exp_volat)\n",
    "\n",
    "#Shape ratio\n",
    "print('Sharpe ratio')\n",
    "tech_covid_sharpe = tech_covid_exp_return/tech_covid_exp_volat\n",
    "print(tech_covid_sharpe)"
   ]
  },
  {
   "cell_type": "code",
   "execution_count": 15,
   "metadata": {},
   "outputs": [
    {
     "name": "stdout",
     "output_type": "stream",
     "text": [
      "Tech Portfolio Analysis during 2008:\n",
      "Index(['AMZN', 'AAPL', 'MSFT', 'GOOG', 'INTC'], dtype='object')\n",
      "Weights\n",
      "[0.86397001 0.02692074 0.06883576 0.01831173 0.02196176]\n",
      "Expected returns\n",
      "0.4282711541609953\n",
      "Expected volatility\n",
      "0.377074565204567\n",
      "Sharpe ratio\n",
      "1.1357731167273337\n"
     ]
    }
   ],
   "source": [
    "# Expected returns, volatility and sharpe ratio of tech industry based on optimal weights\n",
    "\n",
    "#2008 - TECH\n",
    "\n",
    "print('Tech Portfolio Analysis during 2008:')\n",
    "print(tech_returns2008.columns)\n",
    "\n",
    "print(\"Weights\")\n",
    "print(tech_2008_weights_array)\n",
    "\n",
    "#expect returns\n",
    "print('Expected returns')\n",
    "tech_2008_exp_return = np.sum((tech_returns2008.mean()*tech_2008_weights_array)*252)\n",
    "print(tech_2008_exp_return)\n",
    "\n",
    "#expected STD/volatility\n",
    "print('Expected volatility')\n",
    "tech_2008_exp_volat = np.sqrt(np.dot(tech_2008_weights_array.T, np.dot(tech_returns2008.cov()*252, tech_2008_weights_array)))\n",
    "print(tech_2008_exp_volat)\n",
    "\n",
    "#Shape ratio\n",
    "print('Sharpe ratio')\n",
    "tech_2008_sharpe = tech_2008_exp_return/tech_2008_exp_volat\n",
    "print(tech_2008_sharpe)"
   ]
  },
  {
   "cell_type": "code",
   "execution_count": 16,
   "metadata": {},
   "outputs": [
    {
     "name": "stdout",
     "output_type": "stream",
     "text": [
      "Index(['EXPE', 'BKNG', 'AAL', 'AAP', 'LUV'], dtype='object')\n",
      "Expected returns\n",
      "0.1395667407473393\n",
      "Expected volatility\n",
      "0.21038892457332556\n",
      "Shape ratio\n",
      "0.6633749425279132\n"
     ]
    }
   ],
   "source": [
    "# Expected returns, volatility and sharpe ratio of airline industry based on optimal weights\n",
    "\n",
    "#COVID - TRAVEL/AIRLINE\n",
    "print(covid_travel_closingprices.columns)\n",
    "\n",
    "#expect returns\n",
    "print('Expected returns')\n",
    "ta_covid_exp_return = np.sum((travel_covid_dr.mean()*ta_weights_array)*252)\n",
    "print(ta_covid_exp_return)\n",
    "\n",
    "#expected STD/volatility\n",
    "print('Expected volatility')\n",
    "ta_covid_exp_volat = np.sqrt(np.dot(ta_weights_array.T, np.dot(travel_covid_dr.cov()*252, ta_weights_array)))\n",
    "print(ta_covid_exp_volat)\n",
    "\n",
    "#Shape ratio\n",
    "print('Shape ratio')\n",
    "ta_covid_sharpe = ta_covid_exp_return/ta_covid_exp_volat\n",
    "print(ta_covid_sharpe)\n"
   ]
  },
  {
   "cell_type": "code",
   "execution_count": 17,
   "metadata": {},
   "outputs": [
    {
     "name": "stdout",
     "output_type": "stream",
     "text": [
      "Index(['EXPE', 'BKNG', 'AAL', 'AAP', 'LUV'], dtype='object')\n",
      "Expected returns\n",
      "0.393041062867585\n",
      "Expected volatility\n",
      "0.23995940264378185\n",
      "Shape ratio\n",
      "1.637948163469351\n"
     ]
    }
   ],
   "source": [
    "# Expected returns, volatility and sharpe ratio of airline industry based on optimal weights\n",
    "\n",
    "#2008 - TRAVEL/AIRLINE\n",
    "print(travel_closingprices2008.columns)\n",
    "\n",
    "#expect returns\n",
    "print('Expected returns')\n",
    "ta_2008_exp_return = np.sum((travel_returns2008.mean()*ta_weights_2008_array)*252)\n",
    "print(ta_2008_exp_return)\n",
    "\n",
    "#expected STD/volatility\n",
    "print('Expected volatility')\n",
    "ta_2008_exp_volat = np.sqrt(np.dot(ta_weights_2008_array.T, np.dot(travel_returns2008.cov()*252, ta_weights_2008_array)))\n",
    "print(ta_2008_exp_volat)\n",
    "\n",
    "#Shape ratio\n",
    "print('Shape ratio')\n",
    "ta_2008_sharpe = ta_2008_exp_return/ta_2008_exp_volat\n",
    "print(ta_2008_sharpe)"
   ]
  },
  {
   "cell_type": "code",
   "execution_count": 18,
   "metadata": {},
   "outputs": [
    {
     "name": "stdout",
     "output_type": "stream",
     "text": [
      "Index(['XOM', 'BP', 'COP', 'CVX', 'TOT'], dtype='object')\n",
      "Expected returns\n",
      "0.09552702384149238\n",
      "Expected volatility\n",
      "0.25474548354883336\n",
      "Shape ratio\n",
      "0.37499005874693103\n"
     ]
    }
   ],
   "source": [
    "# Expected returns, volatility and sharpe ratio of ENERGY industry based on optimal weights\n",
    "\n",
    "#COVID - ENERGY\n",
    "print(energy_covid_closingprices.columns)\n",
    "\n",
    "#expect returns\n",
    "print('Expected returns')\n",
    "nrg_covid_exp_return = np.sum((energy_covid_dr.mean()*nrg_covid_weights_array)*252)\n",
    "print(nrg_covid_exp_return)\n",
    "\n",
    "#expected STD/volatility\n",
    "print('Expected volatility')\n",
    "nrg_covid_exp_volat = np.sqrt(np.dot(nrg_covid_weights_array.T, np.dot(energy_covid_dr.cov()*252, nrg_covid_weights_array)))\n",
    "print(nrg_covid_exp_volat)\n",
    "\n",
    "#Shape ratio\n",
    "print('Shape ratio')\n",
    "nrg_covid_sharpe = nrg_covid_exp_return/nrg_covid_exp_volat\n",
    "print(nrg_covid_sharpe)"
   ]
  },
  {
   "cell_type": "code",
   "execution_count": 19,
   "metadata": {},
   "outputs": [
    {
     "name": "stdout",
     "output_type": "stream",
     "text": [
      "Index(['XOM', 'BP', 'COP', 'CVX', 'TOT'], dtype='object')\n",
      "Expected returns\n",
      "0.23813939090111677\n",
      "Expected volatility\n",
      "0.18764436136093238\n",
      "Shape ratio\n",
      "1.2690996370685375\n"
     ]
    }
   ],
   "source": [
    "# Expected returns, volatility and sharpe ratio of ENERGY industry based on optimal weights\n",
    "\n",
    "#2008 - ENERGY\n",
    "print(energy_closingprices2008.columns)\n",
    "\n",
    "#expect returns\n",
    "print('Expected returns')\n",
    "nrg_2008_exp_return = np.sum((enerygy_returns2008.mean()*nrg_2008_weights_array)*252)\n",
    "print(nrg_2008_exp_return)\n",
    "\n",
    "#expected STD/volatility\n",
    "print('Expected volatility')\n",
    "nrg_2008_exp_volat = np.sqrt(np.dot(nrg_2008_weights_array.T, np.dot(enerygy_returns2008.cov()*252, nrg_2008_weights_array)))\n",
    "print(nrg_2008_exp_volat)\n",
    "\n",
    "#Shape ratio\n",
    "print('Shape ratio')\n",
    "nrg_2008_sharpe = nrg_2008_exp_return/nrg_2008_exp_volat\n",
    "print(nrg_2008_sharpe)"
   ]
  },
  {
   "cell_type": "markdown",
   "metadata": {},
   "source": [
    "### SP500 DATA  & DAILY RETURNS - COVID"
   ]
  },
  {
   "cell_type": "code",
   "execution_count": 22,
   "metadata": {},
   "outputs": [],
   "source": [
    "#path_covid = \"PROJECT1/Project1/data/Raw Data/SP500_2008.csv\"\n",
    "# path_covid = \"../data/Raw_Data/SP500_COVID.csv\"\n",
    "# covid_sp500_df = pd.read_csv(path_covid, index_col=\"Date\", parse_dates=True, infer_datetime_format=True)\n",
    "\n",
    "\n",
    "# covid_sp500_df = covid_sp500_df[['Adj Close']]\n",
    "# covid_sp500_df.head()"
   ]
  },
  {
   "cell_type": "code",
   "execution_count": 23,
   "metadata": {},
   "outputs": [],
   "source": [
    "# covid_sp_returns = covid_sp500_df.pct_change().dropna()\n",
    "# covid_sp_returns.head()"
   ]
  },
  {
   "cell_type": "markdown",
   "metadata": {},
   "source": [
    "### SP500 DATA & RETURNS - 2008"
   ]
  },
  {
   "cell_type": "code",
   "execution_count": 24,
   "metadata": {},
   "outputs": [],
   "source": [
    "# SP500 Data - 2008 Recesssion\n",
    "# path_2008 = \"../data/Raw_Data/SP500_2008.csv\"\n",
    "# sp500_2008_df = pd.read_csv(path_2008, index_col=\"Date\", parse_dates=True, infer_datetime_format=True)\n",
    "\n",
    "\n",
    "# sp500_2008_df = sp500_2008_df[['Adj Close']]\n",
    "# sp500_2008_df.head()"
   ]
  },
  {
   "cell_type": "code",
   "execution_count": null,
   "metadata": {},
   "outputs": [],
   "source": [
    "d_covid_path = \"../data/Clean_Data/combined_d_COVID.csv\"\n",
    "sp500_d_covid = pd.read_csv(d_covid_path, index_col=\"Date\", parse_dates=True, infer_datetime_format=True)"
   ]
  },
  {
   "cell_type": "code",
   "execution_count": 25,
   "metadata": {},
   "outputs": [],
   "source": [
    "# SP2008_returns = sp500_2008_df.pct_change().dropna()\n",
    "# SP2008_returns.head()"
   ]
  },
  {
   "cell_type": "code",
   "execution_count": 26,
   "metadata": {},
   "outputs": [],
   "source": [
    "# Portfolio Variance COVID\n",
    "ent_portfolio_variance_covid = np.dot(weights_array_covid_ent.T,np.dot(ent_covid_dr.cov()*252,weights_array_covid_ent))\n",
    "ff_portfolio_variance_covid = np.dot(ff_covid_weights_array.T,np.dot(ff_covid_dr.cov()*252,ff_covid_weights_array))\n",
    "tech_portfolio_variance_covid = np.dot(tech_covid_weights_array.T,np.dot(tech_covid_dr.cov()*252,tech_covid_weights_array))\n",
    "ta_portfolio_variance_covid = np.dot(ta_weights_array.T,np.dot(travel_covid_dr.cov()*252,ta_weights_array))\n",
    "nrg_portfolio_variance_covid = np.dot(nrg_covid_weights_array.T,np.dot(energy_covid_dr.cov()*252,nrg_covid_weights_array))\n",
    "\n",
    "# Portfolio Variance 2008\n",
    "ent_portfolio_variance_2008 = np.dot(weights_array_2008_ent.T,np.dot(ent_returns2008.cov()*252,weights_array_2008_ent))\n",
    "ff_portfolio_variance_2008 = np.dot(ff_2008_weights_array.T,np.dot(ff_returns2008.cov()*252,ff_2008_weights_array))\n",
    "tech_portfolio_variance_2008 = np.dot(tech_2008_weights_array.T,np.dot(tech_returns2008.cov()*252,tech_2008_weights_array))\n",
    "ta_portfolio_variance_2008 = np.dot(ta_weights_2008_array.T,np.dot(travel_returns2008.cov()*252,ta_weights_2008_array))\n",
    "nrg_portfolio_variance_2008 = np.dot(nrg_2008_weights_array.T,np.dot(enerygy_returns2008.cov()*252,nrg_2008_weights_array))\n",
    "\n",
    "\n",
    "# Portfolio Volatility COVID\n",
    "ent_portfolio_volatility_covid = np.sqrt(np.dot(weights_array_covid_ent.T,np.dot(ent_covid_dr.cov()*252,weights_array_covid_ent)))\n",
    "ff_portfolio_volatility_covid = np.sqrt(np.dot(ff_covid_weights_array.T,np.dot(ff_covid_dr.cov()*252,ff_covid_weights_array)))\n",
    "tech_portfolio_volatility_covid = np.sqrt(np.dot(tech_covid_weights_array.T,np.dot(tech_covid_dr.cov()*252,tech_covid_weights_array)))\n",
    "ta_portfolio_volatility_covid = np.sqrt(np.dot(ta_weights_array.T,np.dot(travel_covid_dr.cov()*252,ta_weights_array)))\n",
    "nrg_portfolio_volatility_covid = np.sqrt(np.dot(nrg_covid_weights_array.T,np.dot(energy_covid_dr.cov()*252,nrg_covid_weights_array)))\n",
    "\n",
    "# Portfolio Volatility 2008\n",
    "ent_portfolio_volatility_2008 = np.sqrt(np.dot(weights_array_2008_ent.T,np.dot(ent_returns2008.cov()*252,weights_array_2008_ent)))\n",
    "ff_portfolio_volatility_2008 = np.sqrt(np.dot(ff_2008_weights_array.T,np.dot(ff_returns2008.cov()*252,ff_2008_weights_array)))\n",
    "tech_portfolio_volatility_2008 = np.sqrt(np.dot(tech_2008_weights_array.T,np.dot(tech_returns2008.cov()*252,tech_2008_weights_array)))\n",
    "ta_portfolio_volatility_2008 = np.sqrt(np.dot(ta_weights_2008_array.T,np.dot(travel_returns2008.cov()*252,ta_weights_2008_array)))\n",
    "nrg_portfolio_volatility_2008 = np.sqrt(np.dot(nrg_2008_weights_array.T,np.dot(enerygy_returns2008.cov()*252,nrg_2008_weights_array)))"
   ]
  },
  {
   "cell_type": "code",
   "execution_count": null,
   "metadata": {},
   "outputs": [],
   "source": [
    "print(f\"Entertainment Industry COVID Portfolio Variance: {round(ent_portfolio_variance_covid,3)}\")\n",
    "\n",
    "print(f\"Entertainment Industry 2008 Portfolio Variance: {round(ent_portfolio_variance_2008,3)}\")\n",
    "\n",
    "print(f\"Fast Food Industry 2008 Portfolio Variance: {round(ff_portfolio_variance_covid,3)}\")\n",
    "\n",
    "print(f\"Fast Food Industry COVID Portfolio Variance: {round(ff_portfolio_variance_2008,3)}\")\n",
    "\n",
    "print(f\"Technology Industry COVID Portfolio Variance: {round(tech_portfolio_variance_covid,3)}\")\n",
    "\n",
    "print(f\"Technology Industry 2008 Portfolio Variance: {round(tech_portfolio_variance_2008,3)}\")\n",
    "\n",
    "print(f\"Travel/Airlines Industry COVID Portfolio Variance: {round(ta_portfolio_variance_covid,3)}\")\n",
    "\n",
    "print(f\"Travel/Airlines Industry 2008 Portfolio Variance: {round(ta_portfolio_variance_2008,3)}\")\n",
    "\n",
    "print(f\"Energy Industry COVID Portfolio Variance: {round(nrg_portfolio_variance_covid,3)}\")\n",
    "\n",
    "print(f\"Energy Industry 2008 Portfolio Variance: {round(nrg_portfolio_variance_2008,3)}\")"
   ]
  },
  {
   "cell_type": "code",
   "execution_count": null,
   "metadata": {},
   "outputs": [],
   "source": [
    "print(f\"Entertainment Industry COVID Portfolio Volatility: {round(ent_portfolio_volatility_covid,3)}\")\n",
    "\n",
    "print(f\"Entertainment Industry 2008 Portfolio Volatility: {round(ent_portfolio_volatility_2008,3)}\")\n",
    "\n",
    "print(f\"Fast Food Industry 2008 Portfolio Volatility: {round(ff_portfolio_volatility_covid,3)}\")\n",
    "\n",
    "print(f\"Fast Food Industry COVID Portfolio Volatility: {round(ff_portfolio_volatility_2008,3)}\")\n",
    "\n",
    "print(f\"Technology Industry COVID Portfolio Volatility: {round(tech_portfolio_volatility_covid,3)}\")\n",
    "\n",
    "print(f\"Technology Industry 2008 Portfolio Volatility: {round(tech_portfolio_volatility_2008,3)}\")\n",
    "\n",
    "print(f\"Travel/Airlines Industry COVID Portfolio Volatility: {round(ta_portfolio_volatility_covid,3)}\")\n",
    "\n",
    "print(f\"Travel/Airlines Industry 2008 Portfolio Volatility: {round(ta_portfolio_volatility_2008,3)}\")\n",
    "\n",
    "print(f\"Energy Industry COVID Portfolio Volatility: {round(nrg_portfolio_volatility_covid,3)}\")\n",
    "\n",
    "print(f\"Energy Industry 2008 Portfolio Volatility: {round(nrg_portfolio_volatility_2008,3)}\")"
   ]
  },
  {
   "cell_type": "markdown",
   "metadata": {},
   "source": [
    "## Conclusions Based on Volatility and Variance\n",
    "Need to add some in here"
   ]
  },
  {
   "cell_type": "markdown",
   "metadata": {},
   "source": [
    "# EVERYTHING FROM HERE LOWER CONNOR ADDED ON 12.11 THIS WILL RELY ON DATA FROM THE ACTUAL RECESSIONS, UNLIKE EVERYTHING PRIOR THAT RELIED ON DATA LEADING UP TO THE RECESSIONS. IF YOU RUN CELLS BELOW THIS, THE STOCK DATA WILL BE OVERWRITTEN"
   ]
  },
  {
   "cell_type": "code",
   "execution_count": null,
   "metadata": {},
   "outputs": [],
   "source": [
    "#Pulling data \n",
    "# set time frame\n",
    "timeframe = '1D'\n",
    "\n",
    "# start and 'end' date for covid stock market \n",
    "\n",
    "\n",
    "start_date_during_covid = datetime(2019,11,1)\n",
    "end_date_during_covid = datetime(2020,11,1)\n",
    "\n",
    "# start and end date for 2008 recession \n",
    "start_date_during_2008 = datetime(2007,7,1)\n",
    "end_date_during_2008 = datetime(2009,7,1)\n",
    "\n",
    "# get stock data from covid\n",
    "entertainment_tickers_during_covid = pdr.DataReader(ent_tickers,'yahoo',start_date_during_covid,end_date_during_covid)\n",
    "fastfood_tickers_during_covid = pdr.DataReader(fast_food_tickers,'yahoo',start_date_during_covid,end_date_during_covid)\n",
    "during_covid_tech_ticker = pdr.DataReader(tech_tickers,'yahoo',start_date_during_covid,end_date_during_covid)\n",
    "tra_air_during_covid_ticker = pdr.DataReader(tickers_travel_airline,'yahoo',start_date_during_covid,end_date_during_covid)\n",
    "energy_during_covid_ticker = pdr.DataReader(energy_tickers,'yahoo',start_date_during_covid,end_date_during_covid)\n",
    "sp500_during_covid_ticker = pdr.DataReader('^GSPC','yahoo',start_date_during_covid,end_date_during_covid)\n",
    "\n",
    "# get stock data from 2008 recession\n",
    "entertainment_tickers_during_2008 = pdr.DataReader(ent_tickers,'yahoo',start_date_during_2008,end_date_during_2008)\n",
    "fastfood_tickers_during_2008 = pdr.DataReader(fast_food_tickers,'yahoo',start_date_during_2008,end_date_during_2008)\n",
    "tech_ticker_during_2008 = pdr.DataReader(tech_tickers,'yahoo',start_date_during_2008,end_date_during_2008)\n",
    "tra_air_ticker_during_2008 = pdr.DataReader(tickers_travel_airline,'yahoo',start_date_during_2008,end_date_during_2008)\n",
    "energy_ticker_during_2008 = pdr.DataReader(energy_tickers,'yahoo',start_date_during_2008,end_date_during_2008)\n",
    "sp500_during_2008_ticker = pdr.DataReader('^GSPC','yahoo',start_date_during_2008,end_date_during_2008)"
   ]
  },
  {
   "cell_type": "code",
   "execution_count": null,
   "metadata": {},
   "outputs": [],
   "source": [
    "# create new covid and 2008 dataframe to store closing prices of each stock\n",
    "\n",
    "ent_closingprices_during_covid = pd.DataFrame()\n",
    "during_covid_closingprices_ff= pd.DataFrame()\n",
    "during_covid_tech_closingprices = pd.DataFrame()\n",
    "during_covid_travel_closingprices = pd.DataFrame()\n",
    "energy_during_covid_closingprices = pd.DataFrame()\n",
    "\n",
    "# get closing prices for all tickers (entertainment)\n",
    "for ticker in ent_tickers:\n",
    "    ent_closingprices_during_covid[ticker]=entertainment_tickers_during_covid['Adj Close'][ticker]\n",
    "\n",
    "# get closing prices for all tickers (fast food)\n",
    "for ticker in fast_food_tickers:\n",
    "    during_covid_closingprices_ff[ticker]=fastfood_tickers_during_covid['Adj Close'][ticker]\n",
    "    \n",
    "# get closing prices for all tickers (tech)\n",
    "for ticker in tech_tickers:\n",
    "    during_covid_tech_closingprices[ticker]=during_covid_tech_ticker['Adj Close'][ticker]\n",
    "    \n",
    "# get closing prices for all tickers (travel)\n",
    "for ticker in tickers_travel_airline:\n",
    "    during_covid_travel_closingprices[ticker]=tra_air_during_covid_ticker['Adj Close'][ticker]\n",
    "\n",
    "# get closing prices for all tickers (Energy)\n",
    "for ticker in energy_tickers:\n",
    "    energy_during_covid_closingprices[ticker]=energy_during_covid_ticker['Adj Close'][ticker]\n",
    "    \n",
    "# get closing prices for S&P500\n",
    "sp500_during_covid_closingprices = sp500_during_covid_ticker['Adj Close']\n",
    "\n",
    "# drop time component on index\n",
    "ent_closingprices_during_covid.index = ent_closingprices_during_covid.index.date\n",
    "during_covid_closingprices_ff.index = during_covid_closingprices_ff.index.date\n",
    "during_covid_tech_closingprices.index = during_covid_tech_closingprices.index.date\n",
    "during_covid_travel_closingprices.index = during_covid_travel_closingprices.index.date\n",
    "energy_during_covid_closingprices.index = energy_during_covid_closingprices.index.date\n",
    "sp500_during_covid_closingprices.index = sp500_during_covid_closingprices.index.date"
   ]
  },
  {
   "cell_type": "code",
   "execution_count": null,
   "metadata": {},
   "outputs": [],
   "source": [
    "#2008 CLOSING PRICES\n",
    "ent_closingprices_during_2008 = pd.DataFrame()\n",
    "closingprices_during_2008_ff = pd.DataFrame()\n",
    "tech_closingprice_during_2008 = pd.DataFrame()\n",
    "travel_closingprices_during_2008 = pd.DataFrame()\n",
    "energy_closingprices_during_2008 = pd.DataFrame()\n",
    "\n",
    "# get closing prices for all tickers (entertainment)\n",
    "for ticker in ent_tickers:\n",
    "    ent_closingprices_during_2008[ticker]=entertainment_tickers_during_2008['Adj Close'][ticker]\n",
    "\n",
    "# get closing prices for all tickers (fast food)\n",
    "for ticker in fast_food_tickers:\n",
    "    closingprices_during_2008_ff[ticker]=fastfood_tickers_during_2008['Adj Close'][ticker]\n",
    "\n",
    "# get closing prices for all tickers (tech)\n",
    "for ticker in tech_tickers:\n",
    "    tech_closingprice_during_2008[ticker]=tech_ticker_during_2008['Adj Close'][ticker]\n",
    "    \n",
    "# get closing prices for all tickers (travel)\n",
    "for ticker in tickers_travel_airline:\n",
    "    travel_closingprices_during_2008[ticker]=tra_air_ticker_during_2008['Adj Close'][ticker]\n",
    "    \n",
    "# get closing prices for all tickers (energy)\n",
    "for ticker in energy_tickers:\n",
    "    energy_closingprices_during_2008[ticker]=energy_ticker_during_2008['Adj Close'][ticker]\n",
    "    \n",
    "# get closing prices for S&P500\n",
    "sp500_during_2008_closingprices = sp500_during_2008_ticker['Adj Close']\n",
    "    \n",
    "# drop time component on index\n",
    "ent_closingprices_during_2008.index = ent_closingprices_during_2008.index.date\n",
    "closingprices_during_2008_ff.index = closingprices_during_2008_ff.index.date\n",
    "tech_closingprice_during_2008.index = tech_closingprice_during_2008.index.date\n",
    "travel_closingprices_during_2008.index = travel_closingprices_during_2008.index.date\n",
    "energy_closingprices_during_2008.index = energy_closingprices_during_2008.index.date\n",
    "sp500_during_2008_closingprices.index = sp500_during_2008_closingprices.index.date"
   ]
  },
  {
   "cell_type": "code",
   "execution_count": null,
   "metadata": {},
   "outputs": [],
   "source": [
    "# calculate daily returns for each timeframe (entertainment)\n",
    "ent_during_covid_dr = ent_closingprices_during_covid.pct_change().dropna()\n",
    "ent_returns_during_2008 = ent_closingprices_during_2008.pct_change().dropna()\n",
    "\n",
    "# calculate daily returns for each timeframe (fast food)\n",
    "ff_during_covid_dr = during_covid_closingprices_ff.pct_change().dropna()\n",
    "ff_returns_during_2008 = closingprices_during_2008_ff.pct_change().dropna()\n",
    "\n",
    "# calculate daily returns for each timeframe (fast food)\n",
    "tech_during_covid_dr = during_covid_tech_closingprices.pct_change().dropna()\n",
    "tech_returns_during_2008 = tech_closingprice_during_2008.pct_change().dropna()\n",
    "\n",
    "# calculate daily returns for each timeframe (Travel)\n",
    "travel_during_covid_dr = during_covid_travel_closingprices.pct_change().dropna()\n",
    "travel_returns_during_2008 = travel_closingprices_during_2008.pct_change().dropna()\n",
    "\n",
    "# calculate daily returns for each timeframe (Energy)\n",
    "energy_during_covid_dr = energy_during_covid_closingprices.pct_change().dropna()\n",
    "enerygy_returns_during_2008 = energy_closingprices_during_2008.pct_change().dropna()\n",
    "\n",
    "#calculate daily returns for each timeframe (S&P500)\n",
    "sp500_during_covid_dr = sp500_during_covid_closingprices.pct_change().dropna()\n",
    "sp500_during_2008_dr = sp500_during_2008_closingprices.pct_change().dropna()"
   ]
  },
  {
   "cell_type": "code",
   "execution_count": null,
   "metadata": {},
   "outputs": [],
   "source": [
    "#Calculate the weighted returns of each portfolio\n",
    "#START WITH 2008\n",
    "ent_d_2008_weight_ret = ent_returns_during_2008.dot(weights_array_2008_ent)\n",
    "ff_d_2008_weight_ret = ff_returns_during_2008.dot(ff_2008_weights_array)\n",
    "tech_d_2008_weight_ret = tech_returns_during_2008.dot(tech_2008_weights_array)\n",
    "trans_d_2008_weight_ret = travel_returns_during_2008.dot(ta_weights_2008_array)\n",
    "nrg_d_2008_weight_ret = enerygy_returns_during_2008.dot(nrg_2008_weights_array)\n",
    "\n",
    "#NOW DO COVID\n",
    "ent_d_covid_weight_ret = ent_during_covid_dr.dot(weights_array_covid_ent)\n",
    "ff_d_covid_weight_ret = ff_during_covid_dr.dot(ff_covid_weights_array)\n",
    "tech_d_covid_weight_ret = tech_during_covid_dr.dot(tech_covid_weights_array)\n",
    "trans_d_covid_weight_ret = travel_during_covid_dr.dot(ta_weights_array)\n",
    "nrg_d_covid_weight_ret = energy_during_covid_dr.dot(nrg_covid_weights_array)\n"
   ]
  },
  {
   "cell_type": "code",
   "execution_count": null,
   "metadata": {},
   "outputs": [],
   "source": [
    "#create weighted returns dataframes\n",
    "#START WITH 2008\n",
    "comb_d_2008_df = pd.DataFrame([ent_d_2008_weight_ret,ff_d_2008_weight_ret,tech_d_2008_weight_ret,trans_d_2008_weight_ret,nrg_d_2008_weight_ret,sp500_during_2008_dr])\n",
    "comb_d_2008_df = comb_d_2008_df.transpose()\n",
    "comb_d_2008_df.columns = ['Entertainment', 'Fast_Food', 'Tech', 'Transportation', 'Energy', 'S&P_500']\n",
    "\n",
    "#NOW DO COVID\n",
    "comb_d_covid_df = pd.DataFrame([ent_d_covid_weight_ret,ff_d_covid_weight_ret,tech_d_covid_weight_ret,trans_d_covid_weight_ret,nrg_d_covid_weight_ret,sp500_during_covid_dr])\n",
    "comb_d_covid_df = comb_d_covid_df.transpose()\n",
    "comb_d_covid_df.columns = ['Entertainment', 'Fast_Food', 'Tech', 'Transportation', 'Energy', 'S&P_500']"
   ]
  },
  {
   "cell_type": "code",
   "execution_count": null,
   "metadata": {},
   "outputs": [],
   "source": [
    "# export above data frames as csvs\n",
    "comb_d_2008_df.to_csv(\"../data/Clean_Data/combined_d_2008.csv\", index=False)"
   ]
  },
  {
   "cell_type": "code",
   "execution_count": null,
   "metadata": {},
   "outputs": [],
   "source": [
    "comb_d_covid_df.to_csv(\"../data/Clean_Data/combined_d_COVID.csv\", index=False)"
   ]
  },
  {
   "cell_type": "markdown",
   "metadata": {},
   "source": [
    "# The above dataframes should be exported as csvs so that the below can be done in the pyviz environment"
   ]
  },
  {
   "cell_type": "markdown",
   "metadata": {},
   "source": [
    "# Time for some usable data and charts"
   ]
  },
  {
   "cell_type": "code",
   "execution_count": null,
   "metadata": {},
   "outputs": [],
   "source": [
    "#TIME TO CALCULATE THE ANNUAL RISK DURING 2008\n",
    "annual_risk_2008 = comb_2008_df.std() * np.sqrt(252)\n",
    "annual_risk_2008 = annual_risk_2008.sort_values()\n",
    "annual_risk_2008"
   ]
  },
  {
   "cell_type": "markdown",
   "metadata": {},
   "source": [
    "### In 2008, Fast Food has the highest annual risk, Energy is the most risk averse. Each industry is considered riskier than the S&P500"
   ]
  },
  {
   "cell_type": "code",
   "execution_count": null,
   "metadata": {},
   "outputs": [],
   "source": [
    "#NOW DO COVID\n",
    "annual_risk_covid = comb_covid_df.std() * np.sqrt(252)\n",
    "annual_risk_covid = annual_risk_covid.sort_values()\n",
    "annual_risk_covid"
   ]
  },
  {
   "cell_type": "markdown",
   "metadata": {},
   "source": [
    "### During COVID times, Energy has the highest annual risk, whereas Entertainment is the most risk averse. Only Entertainment is less risky than S&P500."
   ]
  },
  {
   "cell_type": "code",
   "execution_count": null,
   "metadata": {},
   "outputs": [],
   "source": [
    "#Rolling 21 day risk for 2008\n",
    "rolling_2008_risk21 = comb_2008_df.rolling(window=21).std()\n",
    "rolling_2008_risk21.plot(title = '21 Day Rolling Risk Analysis in 2008')"
   ]
  },
  {
   "cell_type": "markdown",
   "metadata": {},
   "source": [
    "### It would appear that each of these portfolios were very responsive to the S&P 500 during 2008. Especially between October of 2008 and January of 2009. Transportation, Fast Food and Entertainment all had various spikes that appear to be independent of the S&P500 though."
   ]
  },
  {
   "cell_type": "code",
   "execution_count": null,
   "metadata": {},
   "outputs": [],
   "source": [
    "#Rolling 21 day risk for covid\n",
    "rolling_covid_risk21 = comb_covid_df.rolling(window=21).std()\n",
    "rolling_covid_risk21.plot(title = '21 Day Rolling Risk Analysis during COVID')"
   ]
  },
  {
   "cell_type": "markdown",
   "metadata": {},
   "source": [
    "### Each of these industries appear to be heavily influenced by the S&P 500 during COVID. Energy, Fast Food, and Transportation all seemed to respond extremely heavily from March to May."
   ]
  },
  {
   "cell_type": "code",
   "execution_count": null,
   "metadata": {},
   "outputs": [],
   "source": [
    "#Calculate Sharpe Ratios\n",
    "#2008\n",
    "sharpe_2008_rats = (comb_2008_df.mean() * 252) / (comb_2008_df.std() * np.sqrt(252))\n",
    "sharpe_2008_rats = sharpe_2008_rats.sort_values()\n",
    "\n",
    "#covid\n",
    "sharpe_covid_rats = (comb_covid_df.mean() * 252) / (comb_covid_df.std() * np.sqrt(252))\n",
    "sharpe_covid_rats = sharpe_covid_rats.sort_values()"
   ]
  },
  {
   "cell_type": "code",
   "execution_count": null,
   "metadata": {},
   "outputs": [],
   "source": [
    "sharpe_2008_rats.plot(kind = 'bar', figsize = (15,10) , title = '2008 Sharpe Ratios (During Recession)')"
   ]
  },
  {
   "cell_type": "markdown",
   "metadata": {},
   "source": [
    "### Every single portfolio has a better sharpe ratio than the S&P 500 during 2008. This means, the average of the returns weighted against the annualized risk were all higher for the portfolios than the S&P 500."
   ]
  },
  {
   "cell_type": "code",
   "execution_count": null,
   "metadata": {},
   "outputs": [],
   "source": [
    "sharpe_covid_rats.plot(kind = 'bar', figsize = (15,10) , title = 'COVID Sharpe Ratios (During Recession)')"
   ]
  },
  {
   "cell_type": "markdown",
   "metadata": {},
   "source": [
    "### Energy and Transportation have worse sharpe ratios than the S&P 500. Fast Food, Entertainment and Tech have better average returns weighted against their risk than the S&P 500."
   ]
  },
  {
   "cell_type": "code",
   "execution_count": null,
   "metadata": {},
   "outputs": [],
   "source": [
    "#2008 CORRELATION ANALYSIS\n",
    "correlation_2008 = rolling_2008_risk21.corr()\n",
    "correlation_2008.style.background_gradient()"
   ]
  },
  {
   "cell_type": "markdown",
   "metadata": {},
   "source": [
    "### Energy is most responsive to the S&P 500, Entertainment is least.  Energy and transportation are fairly correlated. As are tech and energy."
   ]
  },
  {
   "cell_type": "code",
   "execution_count": null,
   "metadata": {},
   "outputs": [],
   "source": [
    "#COVID CORRELATION ANALYSIS\n",
    "correlation_covid = rolling_covid_risk21.corr()\n",
    "correlation_covid.style.background_gradient()"
   ]
  },
  {
   "cell_type": "markdown",
   "metadata": {},
   "source": [
    "### Again, energy is most heavily correlated to the S&P 500, followed closely by Fast Food. Tech is the least correlated to the S&P500, but I wouldn't call it un-correlated."
   ]
  },
  {
   "cell_type": "markdown",
   "metadata": {},
   "source": [
    "# I Will pick up here with calculating and plotting betas, but it is dinner time on Friday and I am very hungry. I feel like this has given us a good starting point for Saturday."
   ]
  },
  {
   "cell_type": "markdown",
   "metadata": {},
   "source": [
    "# Should we drop this stuff guys?"
   ]
  },
  {
   "cell_type": "code",
   "execution_count": null,
   "metadata": {},
   "outputs": [],
   "source": [
    "# nrg weights array - covid\n",
    "\n",
    "# number_ports = 100000\n",
    "# nrg_covid_all_weights = np.zeros((number_ports, len(energy_covid_closingprices.columns)))\n",
    "# nrg_covid_returns_array = np.zeros(number_ports)\n",
    "# nrg_covid_volat_array = np.zeros(number_ports)\n",
    "# nrg_covid_sharpe_array = np.zeros(number_ports)\n",
    "                                 \n",
    "# for index in range(number_ports):\n",
    "#     weights = np.array(np.random.random(5))\n",
    "#     weights = weights/np.sum(weights)\n",
    "    \n",
    "#     nrg_covid_all_weights[index,:] = weights\n",
    "    \n",
    "#     nrg_covid_returns_array[index]= np.sum((energy_covid_dr.mean()*weights)*252)\n",
    "    \n",
    "#     nrg_covid_volat_array[index]=np.sqrt(np.dot(weights.T, np.dot(energy_covid_dr.cov()*252, weights)))\n",
    "    \n",
    "#     nrg_covid_sharpe_array[index]=nrg_covid_returns_array[index]/nrg_covid_volat_array[index]\n",
    "    "
   ]
  },
  {
   "cell_type": "code",
   "execution_count": null,
   "metadata": {},
   "outputs": [],
   "source": [
    "# find shape weights by index - energy covid\n",
    "# nrg_covid_sharpe_array.max()\n",
    "\n",
    "# nrg_covid_max_shape = nrg_covid_sharpe_array.argmax()\n",
    "# nrg_covid_max_shape\n",
    "\n",
    "# nrg_covid_weights_array = nrg_covid_all_weights[nrg_covid_max_shape,:]\n",
    "# nrg_covid_weights_array"
   ]
  },
  {
   "cell_type": "code",
   "execution_count": null,
   "metadata": {},
   "outputs": [],
   "source": [
    "# nrg weights array - 2008\n",
    "\n",
    "# number_ports = 100000\n",
    "# nrg_2008_all_weights = np.zeros((number_ports, len(energy_closingprices2008.columns)))\n",
    "# nrg_2008_returns_array = np.zeros(number_ports)\n",
    "# nrg_2008_volat_array = np.zeros(number_ports)\n",
    "# nrg_2008_sharpe_array = np.zeros(number_ports)\n",
    "                                 \n",
    "# for index in range(number_ports):\n",
    "#     weights = np.array(np.random.random(5))\n",
    "#     weights = weights/np.sum(weights)\n",
    "    \n",
    "#     nrg_2008_all_weights[index,:] = weights\n",
    "    \n",
    "#     nrg_2008_returns_array[index]= np.sum((enerygy_returns2008.mean()*weights)*252)\n",
    "    \n",
    "#     nrg_2008_volat_array[index]=np.sqrt(np.dot(weights.T, np.dot(enerygy_returns2008.cov()*252, weights)))\n",
    "    \n",
    "#     nrg_2008_sharpe_array[index]=nrg_2008_returns_array[index]/nrg_2008_volat_array[index]"
   ]
  },
  {
   "cell_type": "code",
   "execution_count": null,
   "metadata": {},
   "outputs": [],
   "source": [
    "# find shape weights by index - energy 2008\n",
    "# nrg_2008_sharpe_array.max()\n",
    "\n",
    "# nrg_2008_max_shape = nrg_2008_sharpe_array.argmax()\n",
    "# nrg_2008_max_shape\n",
    "\n",
    "# nrg_2008_weights_array = nrg_2008_all_weights[nrg_2008_max_shape,:]\n",
    "# nrg_2008_weights_array"
   ]
  },
  {
   "cell_type": "code",
   "execution_count": null,
   "metadata": {},
   "outputs": [],
   "source": []
  },
  {
   "cell_type": "markdown",
   "metadata": {},
   "source": [
    "## volatility for 2008 & COVID\n",
    "* standard deviation\n",
    "* box & whisker plot?\n",
    "\n",
    "## Industries\n",
    "* Tech: AMD, AAPL, MSFT, GOOG, INTC\n",
    "* Entertainment: IMAX, DIS, NFLX, CNK, SNE\n",
    "* Fast Food/Restaurants: MCD, WEN, YUM, DPZ, CMG\n",
    "* Energy: XOM, BP, RDS, COP, CVX\n",
    "* Travel/Airlines: EXPE, BKNG, DAL, AAP, UAL"
   ]
  }
 ],
 "metadata": {
  "kernelspec": {
   "display_name": "Python [conda env:alpacaenv]",
   "language": "python",
   "name": "conda-env-alpacaenv-py"
  },
  "language_info": {
   "codemirror_mode": {
    "name": "ipython",
    "version": 3
   },
   "file_extension": ".py",
   "mimetype": "text/x-python",
   "name": "python",
   "nbconvert_exporter": "python",
   "pygments_lexer": "ipython3",
   "version": "3.7.7"
  }
 },
 "nbformat": 4,
 "nbformat_minor": 4
}
